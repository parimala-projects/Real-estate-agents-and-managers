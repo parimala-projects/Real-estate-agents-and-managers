{
 "cells": [
  {
   "cell_type": "markdown",
   "id": "df5c6b94-bd49-4372-87ec-9ede61aacc19",
   "metadata": {},
   "source": [
    "## <font color=\"blue\">Data loading strategy for three datasets</font>\n",
    "\n",
    "We used IPython's storemagic function (https://ipython.readthedocs.io/en/stable/config/extensions/storemagic.html) for the persistence storage of data. Here are the steps we followed.\n",
    "1. Run each person's Project3.ipynb file individually with our own credentials for WRDS and our own FRED api key to get the merged data from FRED and WRDS for each person. For example, I ran Parimala's and Samuel's Project3.ipynb file with my WRDS credentials and my own FRED api key (without changing any other code).\n",
    "2. Then, we execute the following code at the end of each person's file for persistent storage. Here is the code executed.\n",
    "   > Sitanshu's file<br>\n",
    "   > `%store dff_econ_ann2_real_estate_agts_n_mgr_wo_na` <br><br>\n",
    "   > Samuel's file<br>\n",
    "   > `%store econ_2010_2023`<br><br>\n",
    "   > Parimala's file<br>\n",
    "   > `%store econ_r`\n",
    "3. We are loading data to this file using `%store -r`\n",
    "\n",
    "<font color=\"red\">**Important Note: Since both Samuel and Parimala are taking data from 2010 to 2022, I am also taking data within that range. Earlier I was targeting the 2010 to 2021 range.**</font>"
   ]
  },
  {
   "cell_type": "code",
   "execution_count": 1,
   "id": "66ded609-4273-413c-b941-efa7c9c0c3aa",
   "metadata": {},
   "outputs": [],
   "source": [
    "# Import required libraries\n",
    "import pandas as pd # Alias pandas as pd\n",
    "import numpy as np # Alias NumPy as np"
   ]
  },
  {
   "cell_type": "markdown",
   "id": "ee0bd48c-900b-4a6c-94a3-a460eed00554",
   "metadata": {},
   "source": [
    "### <font color=\"blue\">Load data<font>"
   ]
  },
  {
   "cell_type": "code",
   "execution_count": 2,
   "id": "38787fed-bff2-45b0-84f8-108c0755321d",
   "metadata": {},
   "outputs": [],
   "source": [
    "# Load data to dataframes.\n",
    "%store -r"
   ]
  },
  {
   "cell_type": "markdown",
   "id": "599f09da-e88a-43ec-b3f3-b37a1a744b2c",
   "metadata": {},
   "source": [
    "##### <font color=\"green\">Verify data is loaded.</font>"
   ]
  },
  {
   "cell_type": "code",
   "execution_count": 3,
   "id": "ee6c9cd7-36ac-4e81-abad-03bf8430fafa",
   "metadata": {},
   "outputs": [
    {
     "name": "stdout",
     "output_type": "stream",
     "text": [
      "<class 'pandas.core.frame.DataFrame'>\n",
      "Index: 248 entries, 0 to 247\n",
      "Data columns (total 8 columns):\n",
      " #   Column          Non-Null Count  Dtype         \n",
      "---  ------          --------------  -----         \n",
      " 0   year            248 non-null    int32         \n",
      " 1   effective_rate  248 non-null    float64       \n",
      " 2   cik             248 non-null    object        \n",
      " 3   gvkey           248 non-null    object        \n",
      " 4   datadate        248 non-null    datetime64[ns]\n",
      " 5   conm            248 non-null    object        \n",
      " 6   revt            248 non-null    float64       \n",
      " 7   ni              248 non-null    float64       \n",
      "dtypes: datetime64[ns](1), float64(3), int32(1), object(3)\n",
      "memory usage: 16.5+ KB\n"
     ]
    }
   ],
   "source": [
    "# Verify interest rate data\n",
    "dff_econ_ann2_real_estate_agts_n_mgr_wo_na.info()"
   ]
  },
  {
   "cell_type": "code",
   "execution_count": 4,
   "id": "288deaf5-5562-43cc-b4da-397788e55b5b",
   "metadata": {},
   "outputs": [
    {
     "name": "stdout",
     "output_type": "stream",
     "text": [
      "<class 'pandas.core.frame.DataFrame'>\n",
      "RangeIndex: 248 entries, 0 to 247\n",
      "Data columns (total 10 columns):\n",
      " #   Column        Non-Null Count  Dtype         \n",
      "---  ------        --------------  -----         \n",
      " 0   year          248 non-null    int32         \n",
      " 1   house income  248 non-null    float64       \n",
      " 2   index         248 non-null    int64         \n",
      " 3   cik           248 non-null    object        \n",
      " 4   gvkey         248 non-null    object        \n",
      " 5   date          248 non-null    datetime64[ns]\n",
      " 6   conm          248 non-null    object        \n",
      " 7   revt          248 non-null    float64       \n",
      " 8   ni            248 non-null    float64       \n",
      " 9   month         248 non-null    int32         \n",
      "dtypes: datetime64[ns](1), float64(3), int32(2), int64(1), object(3)\n",
      "memory usage: 17.6+ KB\n"
     ]
    }
   ],
   "source": [
    "# Verify labor force data.\n",
    "econ_2010_2023.info()"
   ]
  },
  {
   "cell_type": "code",
   "execution_count": 5,
   "id": "1bf577b3-2459-4fad-add0-b6f86cfe4b85",
   "metadata": {},
   "outputs": [
    {
     "name": "stdout",
     "output_type": "stream",
     "text": [
      "<class 'pandas.core.frame.DataFrame'>\n",
      "RangeIndex: 248 entries, 0 to 247\n",
      "Data columns (total 8 columns):\n",
      " #   Column                Non-Null Count  Dtype         \n",
      "---  ------                --------------  -----         \n",
      " 0   year                  248 non-null    int32         \n",
      " 1   Thousands of Persons  248 non-null    float64       \n",
      " 2   cik                   248 non-null    object        \n",
      " 3   gvkey                 248 non-null    object        \n",
      " 4   datadate              248 non-null    datetime64[ns]\n",
      " 5   conm                  248 non-null    object        \n",
      " 6   revt                  248 non-null    float64       \n",
      " 7   ni                    248 non-null    float64       \n",
      "dtypes: datetime64[ns](1), float64(3), int32(1), object(3)\n",
      "memory usage: 14.7+ KB\n"
     ]
    }
   ],
   "source": [
    "# Verify population-level data\n",
    "econ_r.info()"
   ]
  },
  {
   "cell_type": "markdown",
   "id": "9f0f464f-dc70-4f26-af3a-151f54969836",
   "metadata": {},
   "source": [
    "## <font color=\"red\">Merge data</font>"
   ]
  },
  {
   "cell_type": "markdown",
   "id": "cf9eb7df-aed0-4dcf-a1c1-a76baf356418",
   "metadata": {},
   "source": [
    "#### <font color=\"blue\">Preview impact of merging interest rates and labour force data</font>\n",
    "\n",
    "First, we explore different join types by reviewing how they affect the merged dataset."
   ]
  },
  {
   "cell_type": "code",
   "execution_count": 6,
   "id": "79eb32d4-6b97-4149-af3e-2382440ce80d",
   "metadata": {},
   "outputs": [
    {
     "data": {
      "text/plain": [
       "(248, 16)"
      ]
     },
     "execution_count": 6,
     "metadata": {},
     "output_type": "execute_result"
    }
   ],
   "source": [
    "# Review the shape of data after left join.\n",
    "pd.merge(\n",
    "    dff_econ_ann2_real_estate_agts_n_mgr_wo_na, econ_2010_2023, how=\"left\", on=[\"year\",\"gvkey\"]\n",
    ").shape"
   ]
  },
  {
   "cell_type": "code",
   "execution_count": 10,
   "id": "f834f42f-4432-42e9-b570-6d2ded506e52",
   "metadata": {},
   "outputs": [
    {
     "data": {
      "text/html": [
       "<div>\n",
       "<style scoped>\n",
       "    .dataframe tbody tr th:only-of-type {\n",
       "        vertical-align: middle;\n",
       "    }\n",
       "\n",
       "    .dataframe tbody tr th {\n",
       "        vertical-align: top;\n",
       "    }\n",
       "\n",
       "    .dataframe thead th {\n",
       "        text-align: right;\n",
       "    }\n",
       "</style>\n",
       "<table border=\"1\" class=\"dataframe\">\n",
       "  <thead>\n",
       "    <tr style=\"text-align: right;\">\n",
       "      <th></th>\n",
       "      <th>year</th>\n",
       "      <th>effective_rate</th>\n",
       "      <th>cik_x</th>\n",
       "      <th>gvkey</th>\n",
       "      <th>datadate</th>\n",
       "      <th>conm_x</th>\n",
       "      <th>revt_x</th>\n",
       "      <th>ni_x</th>\n",
       "      <th>house income</th>\n",
       "      <th>index</th>\n",
       "      <th>cik_y</th>\n",
       "      <th>date</th>\n",
       "      <th>conm_y</th>\n",
       "      <th>revt_y</th>\n",
       "      <th>ni_y</th>\n",
       "      <th>month</th>\n",
       "    </tr>\n",
       "  </thead>\n",
       "  <tbody>\n",
       "    <tr>\n",
       "      <th>0</th>\n",
       "      <td>2010</td>\n",
       "      <td>0.176247</td>\n",
       "      <td>0001328208</td>\n",
       "      <td>165463</td>\n",
       "      <td>2010-12-31</td>\n",
       "      <td>GOLDEN GATE PARTNERS INC</td>\n",
       "      <td>0.652</td>\n",
       "      <td>-0.705</td>\n",
       "      <td>2302.333333</td>\n",
       "      <td>102</td>\n",
       "      <td>0001328208</td>\n",
       "      <td>2010-12-31</td>\n",
       "      <td>GOLDEN GATE PARTNERS INC</td>\n",
       "      <td>0.652</td>\n",
       "      <td>-0.705</td>\n",
       "      <td>12</td>\n",
       "    </tr>\n",
       "    <tr>\n",
       "      <th>1</th>\n",
       "      <td>2010</td>\n",
       "      <td>0.176247</td>\n",
       "      <td>0001477324</td>\n",
       "      <td>184116</td>\n",
       "      <td>2010-12-31</td>\n",
       "      <td>IFM INVESTMENTS LTD</td>\n",
       "      <td>80.429</td>\n",
       "      <td>-24.581</td>\n",
       "      <td>2302.333333</td>\n",
       "      <td>157</td>\n",
       "      <td>0001477324</td>\n",
       "      <td>2010-12-31</td>\n",
       "      <td>IFM INVESTMENTS LTD</td>\n",
       "      <td>80.429</td>\n",
       "      <td>-24.581</td>\n",
       "      <td>12</td>\n",
       "    </tr>\n",
       "    <tr>\n",
       "      <th>2</th>\n",
       "      <td>2010</td>\n",
       "      <td>0.176247</td>\n",
       "      <td>0001497862</td>\n",
       "      <td>185854</td>\n",
       "      <td>2010-12-31</td>\n",
       "      <td>SYSWIN INC  -ADR</td>\n",
       "      <td>95.306</td>\n",
       "      <td>28.725</td>\n",
       "      <td>2302.333333</td>\n",
       "      <td>109</td>\n",
       "      <td>0001497862</td>\n",
       "      <td>2010-12-31</td>\n",
       "      <td>SYSWIN INC  -ADR</td>\n",
       "      <td>95.306</td>\n",
       "      <td>28.725</td>\n",
       "      <td>12</td>\n",
       "    </tr>\n",
       "    <tr>\n",
       "      <th>3</th>\n",
       "      <td>2010</td>\n",
       "      <td>0.176247</td>\n",
       "      <td>0001408100</td>\n",
       "      <td>025632</td>\n",
       "      <td>2010-12-31</td>\n",
       "      <td>KENNEDY-WILSON HOLDINGS INC</td>\n",
       "      <td>50.536</td>\n",
       "      <td>3.506</td>\n",
       "      <td>2302.333333</td>\n",
       "      <td>78</td>\n",
       "      <td>0001408100</td>\n",
       "      <td>2010-12-31</td>\n",
       "      <td>KENNEDY-WILSON HOLDINGS INC</td>\n",
       "      <td>50.536</td>\n",
       "      <td>3.506</td>\n",
       "      <td>12</td>\n",
       "    </tr>\n",
       "    <tr>\n",
       "      <th>4</th>\n",
       "      <td>2010</td>\n",
       "      <td>0.176247</td>\n",
       "      <td>0001033032</td>\n",
       "      <td>064867</td>\n",
       "      <td>2010-12-31</td>\n",
       "      <td>SILVERLEAF RESORTS INC</td>\n",
       "      <td>226.011</td>\n",
       "      <td>5.775</td>\n",
       "      <td>2302.333333</td>\n",
       "      <td>42</td>\n",
       "      <td>0001033032</td>\n",
       "      <td>2010-12-31</td>\n",
       "      <td>SILVERLEAF RESORTS INC</td>\n",
       "      <td>226.011</td>\n",
       "      <td>5.775</td>\n",
       "      <td>12</td>\n",
       "    </tr>\n",
       "  </tbody>\n",
       "</table>\n",
       "</div>"
      ],
      "text/plain": [
       "   year  effective_rate       cik_x   gvkey   datadate  \\\n",
       "0  2010        0.176247  0001328208  165463 2010-12-31   \n",
       "1  2010        0.176247  0001477324  184116 2010-12-31   \n",
       "2  2010        0.176247  0001497862  185854 2010-12-31   \n",
       "3  2010        0.176247  0001408100  025632 2010-12-31   \n",
       "4  2010        0.176247  0001033032  064867 2010-12-31   \n",
       "\n",
       "                        conm_x   revt_x    ni_x  house income  index  \\\n",
       "0     GOLDEN GATE PARTNERS INC    0.652  -0.705   2302.333333    102   \n",
       "1          IFM INVESTMENTS LTD   80.429 -24.581   2302.333333    157   \n",
       "2             SYSWIN INC  -ADR   95.306  28.725   2302.333333    109   \n",
       "3  KENNEDY-WILSON HOLDINGS INC   50.536   3.506   2302.333333     78   \n",
       "4       SILVERLEAF RESORTS INC  226.011   5.775   2302.333333     42   \n",
       "\n",
       "        cik_y       date                       conm_y   revt_y    ni_y  month  \n",
       "0  0001328208 2010-12-31     GOLDEN GATE PARTNERS INC    0.652  -0.705     12  \n",
       "1  0001477324 2010-12-31          IFM INVESTMENTS LTD   80.429 -24.581     12  \n",
       "2  0001497862 2010-12-31             SYSWIN INC  -ADR   95.306  28.725     12  \n",
       "3  0001408100 2010-12-31  KENNEDY-WILSON HOLDINGS INC   50.536   3.506     12  \n",
       "4  0001033032 2010-12-31       SILVERLEAF RESORTS INC  226.011   5.775     12  "
      ]
     },
     "execution_count": 10,
     "metadata": {},
     "output_type": "execute_result"
    }
   ],
   "source": [
    "# Verify the data after left join.\n",
    "pd.merge(\n",
    "    dff_econ_ann2_real_estate_agts_n_mgr_wo_na, econ_2010_2023, how=\"left\", on=[\"year\",\"gvkey\"]\n",
    ").head()"
   ]
  },
  {
   "cell_type": "markdown",
   "id": "b6ed42a8-d278-4f7c-87c5-620446319938",
   "metadata": {},
   "source": [
    "#### <font color=\"green\">Analysis on data</font>\n",
    "\n",
    "We have three observations:\n",
    "1. Same data columns are duplicated with suffix _x and _y from left and right datasets respectively.\n",
    "2. **datadate** and **date** columns in datasets have the same values but use different names.\n",
    "3. Columns included in merge are not duplicated."
   ]
  },
  {
   "cell_type": "markdown",
   "id": "c17e25b7-a7d8-4aac-b3fc-e7553d761331",
   "metadata": {},
   "source": [
    "### <font color=\"blue\">Fix the column name by using same name for same data</font>\n",
    "\n",
    "We have two datasets that uses **datadate** column, whereas the Labor force dataset uses column name as **date**. So, we rename date column in labor force dataset to \"datadate\" to match with other datasets."
   ]
  },
  {
   "cell_type": "code",
   "execution_count": 15,
   "id": "995859bb-cc57-47c2-85f5-454604d5709f",
   "metadata": {},
   "outputs": [],
   "source": [
    "# Rename the date column to datadate in the labor force dataset.\n",
    "econ_2010_2023 = econ_2010_2023.rename(columns={'date':'datadate'})"
   ]
  },
  {
   "cell_type": "code",
   "execution_count": 16,
   "id": "fd7453c1-00a3-4e43-a540-385d05eabe92",
   "metadata": {},
   "outputs": [
    {
     "data": {
      "text/html": [
       "<div>\n",
       "<style scoped>\n",
       "    .dataframe tbody tr th:only-of-type {\n",
       "        vertical-align: middle;\n",
       "    }\n",
       "\n",
       "    .dataframe tbody tr th {\n",
       "        vertical-align: top;\n",
       "    }\n",
       "\n",
       "    .dataframe thead th {\n",
       "        text-align: right;\n",
       "    }\n",
       "</style>\n",
       "<table border=\"1\" class=\"dataframe\">\n",
       "  <thead>\n",
       "    <tr style=\"text-align: right;\">\n",
       "      <th></th>\n",
       "      <th>year</th>\n",
       "      <th>house income</th>\n",
       "      <th>index</th>\n",
       "      <th>cik</th>\n",
       "      <th>gvkey</th>\n",
       "      <th>datadate</th>\n",
       "      <th>conm</th>\n",
       "      <th>revt</th>\n",
       "      <th>ni</th>\n",
       "      <th>month</th>\n",
       "    </tr>\n",
       "  </thead>\n",
       "  <tbody>\n",
       "    <tr>\n",
       "      <th>0</th>\n",
       "      <td>2010</td>\n",
       "      <td>2302.333333</td>\n",
       "      <td>42</td>\n",
       "      <td>0001033032</td>\n",
       "      <td>064867</td>\n",
       "      <td>2010-12-31</td>\n",
       "      <td>SILVERLEAF RESORTS INC</td>\n",
       "      <td>226.011</td>\n",
       "      <td>5.775</td>\n",
       "      <td>12</td>\n",
       "    </tr>\n",
       "    <tr>\n",
       "      <th>1</th>\n",
       "      <td>2010</td>\n",
       "      <td>2302.333333</td>\n",
       "      <td>43</td>\n",
       "      <td>0001361658</td>\n",
       "      <td>174729</td>\n",
       "      <td>2010-12-31</td>\n",
       "      <td>TRAVEL PLUS LEISURE CO</td>\n",
       "      <td>3851.000</td>\n",
       "      <td>379.000</td>\n",
       "      <td>12</td>\n",
       "    </tr>\n",
       "    <tr>\n",
       "      <th>2</th>\n",
       "      <td>2010</td>\n",
       "      <td>2302.333333</td>\n",
       "      <td>56</td>\n",
       "      <td>0001405658</td>\n",
       "      <td>178093</td>\n",
       "      <td>2010-12-31</td>\n",
       "      <td>E-HOUSE CHINA HOLDINGS  -ADR</td>\n",
       "      <td>356.526</td>\n",
       "      <td>36.155</td>\n",
       "      <td>12</td>\n",
       "    </tr>\n",
       "    <tr>\n",
       "      <th>3</th>\n",
       "      <td>2010</td>\n",
       "      <td>2302.333333</td>\n",
       "      <td>78</td>\n",
       "      <td>0001408100</td>\n",
       "      <td>025632</td>\n",
       "      <td>2010-12-31</td>\n",
       "      <td>KENNEDY-WILSON HOLDINGS INC</td>\n",
       "      <td>50.536</td>\n",
       "      <td>3.506</td>\n",
       "      <td>12</td>\n",
       "    </tr>\n",
       "    <tr>\n",
       "      <th>4</th>\n",
       "      <td>2010</td>\n",
       "      <td>2302.333333</td>\n",
       "      <td>102</td>\n",
       "      <td>0001328208</td>\n",
       "      <td>165463</td>\n",
       "      <td>2010-12-31</td>\n",
       "      <td>GOLDEN GATE PARTNERS INC</td>\n",
       "      <td>0.652</td>\n",
       "      <td>-0.705</td>\n",
       "      <td>12</td>\n",
       "    </tr>\n",
       "    <tr>\n",
       "      <th>...</th>\n",
       "      <td>...</td>\n",
       "      <td>...</td>\n",
       "      <td>...</td>\n",
       "      <td>...</td>\n",
       "      <td>...</td>\n",
       "      <td>...</td>\n",
       "      <td>...</td>\n",
       "      <td>...</td>\n",
       "      <td>...</td>\n",
       "      <td>...</td>\n",
       "    </tr>\n",
       "    <tr>\n",
       "      <th>243</th>\n",
       "      <td>2022</td>\n",
       "      <td>1571.583333</td>\n",
       "      <td>202</td>\n",
       "      <td>0001037976</td>\n",
       "      <td>065108</td>\n",
       "      <td>2022-12-31</td>\n",
       "      <td>JONES LANG LASALLE INC</td>\n",
       "      <td>20862.100</td>\n",
       "      <td>654.500</td>\n",
       "      <td>12</td>\n",
       "    </tr>\n",
       "    <tr>\n",
       "      <th>244</th>\n",
       "      <td>2022</td>\n",
       "      <td>1571.583333</td>\n",
       "      <td>218</td>\n",
       "      <td>0001596856</td>\n",
       "      <td>020009</td>\n",
       "      <td>2022-12-31</td>\n",
       "      <td>LEJU HOLDINGS LTD  -ADR</td>\n",
       "      <td>343.182</td>\n",
       "      <td>-89.668</td>\n",
       "      <td>12</td>\n",
       "    </tr>\n",
       "    <tr>\n",
       "      <th>245</th>\n",
       "      <td>2022</td>\n",
       "      <td>1571.583333</td>\n",
       "      <td>221</td>\n",
       "      <td>0001862461</td>\n",
       "      <td>037198</td>\n",
       "      <td>2022-12-31</td>\n",
       "      <td>REAL BROKERAGE INC (THE)</td>\n",
       "      <td>381.756</td>\n",
       "      <td>-20.577</td>\n",
       "      <td>12</td>\n",
       "    </tr>\n",
       "    <tr>\n",
       "      <th>246</th>\n",
       "      <td>2022</td>\n",
       "      <td>1571.583333</td>\n",
       "      <td>223</td>\n",
       "      <td>0001946216</td>\n",
       "      <td>041824</td>\n",
       "      <td>2022-12-31</td>\n",
       "      <td>SYLA TECHNOLOGIE CO LTD -ADR</td>\n",
       "      <td>167.253</td>\n",
       "      <td>2.995</td>\n",
       "      <td>12</td>\n",
       "    </tr>\n",
       "    <tr>\n",
       "      <th>247</th>\n",
       "      <td>2022</td>\n",
       "      <td>1571.583333</td>\n",
       "      <td>226</td>\n",
       "      <td>0001944902</td>\n",
       "      <td>041900</td>\n",
       "      <td>2022-12-31</td>\n",
       "      <td>OHMYHOME LTD</td>\n",
       "      <td>5.240</td>\n",
       "      <td>-2.277</td>\n",
       "      <td>12</td>\n",
       "    </tr>\n",
       "  </tbody>\n",
       "</table>\n",
       "<p>248 rows × 10 columns</p>\n",
       "</div>"
      ],
      "text/plain": [
       "     year  house income  index         cik   gvkey   datadate  \\\n",
       "0    2010   2302.333333     42  0001033032  064867 2010-12-31   \n",
       "1    2010   2302.333333     43  0001361658  174729 2010-12-31   \n",
       "2    2010   2302.333333     56  0001405658  178093 2010-12-31   \n",
       "3    2010   2302.333333     78  0001408100  025632 2010-12-31   \n",
       "4    2010   2302.333333    102  0001328208  165463 2010-12-31   \n",
       "..    ...           ...    ...         ...     ...        ...   \n",
       "243  2022   1571.583333    202  0001037976  065108 2022-12-31   \n",
       "244  2022   1571.583333    218  0001596856  020009 2022-12-31   \n",
       "245  2022   1571.583333    221  0001862461  037198 2022-12-31   \n",
       "246  2022   1571.583333    223  0001946216  041824 2022-12-31   \n",
       "247  2022   1571.583333    226  0001944902  041900 2022-12-31   \n",
       "\n",
       "                             conm       revt       ni  month  \n",
       "0          SILVERLEAF RESORTS INC    226.011    5.775     12  \n",
       "1          TRAVEL PLUS LEISURE CO   3851.000  379.000     12  \n",
       "2    E-HOUSE CHINA HOLDINGS  -ADR    356.526   36.155     12  \n",
       "3     KENNEDY-WILSON HOLDINGS INC     50.536    3.506     12  \n",
       "4        GOLDEN GATE PARTNERS INC      0.652   -0.705     12  \n",
       "..                            ...        ...      ...    ...  \n",
       "243        JONES LANG LASALLE INC  20862.100  654.500     12  \n",
       "244       LEJU HOLDINGS LTD  -ADR    343.182  -89.668     12  \n",
       "245      REAL BROKERAGE INC (THE)    381.756  -20.577     12  \n",
       "246  SYLA TECHNOLOGIE CO LTD -ADR    167.253    2.995     12  \n",
       "247                  OHMYHOME LTD      5.240   -2.277     12  \n",
       "\n",
       "[248 rows x 10 columns]"
      ]
     },
     "execution_count": 16,
     "metadata": {},
     "output_type": "execute_result"
    }
   ],
   "source": [
    "econ_2010_2023"
   ]
  },
  {
   "cell_type": "markdown",
   "id": "78d57548-f2c7-4566-9735-74949fea9a82",
   "metadata": {},
   "source": [
    "#### <font color=\"blue\">Resume merging verification</font>"
   ]
  },
  {
   "cell_type": "code",
   "execution_count": 17,
   "id": "ed95e055-9e7b-4cb1-92bc-52d4b8b32da4",
   "metadata": {},
   "outputs": [
    {
     "data": {
      "text/plain": [
       "(248, 11)"
      ]
     },
     "execution_count": 17,
     "metadata": {},
     "output_type": "execute_result"
    }
   ],
   "source": [
    "# Review the shape of data after left join.\n",
    "pd.merge(\n",
    "    dff_econ_ann2_real_estate_agts_n_mgr_wo_na, econ_2010_2023, how=\"left\", on=[\"year\",\"gvkey\",\"datadate\",\"cik\",\"conm\",\"revt\",\"ni\"]\n",
    ").shape"
   ]
  },
  {
   "cell_type": "code",
   "execution_count": 21,
   "id": "4775d810-f269-4072-b5fd-c28ab5b8ae13",
   "metadata": {},
   "outputs": [
    {
     "data": {
      "text/plain": [
       "year              0\n",
       "effective_rate    0\n",
       "cik               0\n",
       "gvkey             0\n",
       "datadate          0\n",
       "conm              0\n",
       "revt              0\n",
       "ni                0\n",
       "house income      0\n",
       "index             0\n",
       "month             0\n",
       "dtype: int64"
      ]
     },
     "execution_count": 21,
     "metadata": {},
     "output_type": "execute_result"
    }
   ],
   "source": [
    "# Review NaN data after left join.\n",
    "pd.merge(\n",
    "    dff_econ_ann2_real_estate_agts_n_mgr_wo_na, econ_2010_2023, how=\"left\", on=[\"year\",\"gvkey\",\"datadate\",\"cik\",\"conm\",\"revt\",\"ni\"]\n",
    ").isnull().sum()"
   ]
  },
  {
   "cell_type": "code",
   "execution_count": 18,
   "id": "75d9124b-3204-45c0-99c8-8dd30b734cf6",
   "metadata": {},
   "outputs": [
    {
     "data": {
      "text/plain": [
       "(248, 11)"
      ]
     },
     "execution_count": 18,
     "metadata": {},
     "output_type": "execute_result"
    }
   ],
   "source": [
    "# Review the shape of data after inner join.\n",
    "pd.merge(\n",
    "    dff_econ_ann2_real_estate_agts_n_mgr_wo_na, econ_2010_2023, how=\"inner\", on=[\"year\",\"gvkey\",\"datadate\",\"cik\",\"conm\",\"revt\",\"ni\"]\n",
    ").shape"
   ]
  },
  {
   "cell_type": "code",
   "execution_count": 22,
   "id": "582fbab9-e224-4a8a-ab45-8a99f37b1e50",
   "metadata": {},
   "outputs": [
    {
     "data": {
      "text/plain": [
       "year              0\n",
       "effective_rate    0\n",
       "cik               0\n",
       "gvkey             0\n",
       "datadate          0\n",
       "conm              0\n",
       "revt              0\n",
       "ni                0\n",
       "house income      0\n",
       "index             0\n",
       "month             0\n",
       "dtype: int64"
      ]
     },
     "execution_count": 22,
     "metadata": {},
     "output_type": "execute_result"
    }
   ],
   "source": [
    "# Review NaN data after inner join.\n",
    "pd.merge(\n",
    "    dff_econ_ann2_real_estate_agts_n_mgr_wo_na, econ_2010_2023, how=\"inner\", on=[\"year\",\"gvkey\",\"datadate\",\"cik\",\"conm\",\"revt\",\"ni\"]\n",
    ").isnull().sum()"
   ]
  },
  {
   "cell_type": "code",
   "execution_count": 19,
   "id": "5b9c198a-da3b-4c6d-ae6b-af69c82eadad",
   "metadata": {},
   "outputs": [
    {
     "data": {
      "text/plain": [
       "(248, 11)"
      ]
     },
     "execution_count": 19,
     "metadata": {},
     "output_type": "execute_result"
    }
   ],
   "source": [
    "# Review the shape of data after outer join.\n",
    "pd.merge(\n",
    "    dff_econ_ann2_real_estate_agts_n_mgr_wo_na, econ_2010_2023, how=\"outer\", on=[\"year\",\"gvkey\",\"datadate\",\"cik\",\"conm\",\"revt\",\"ni\"]\n",
    ").shape"
   ]
  },
  {
   "cell_type": "code",
   "execution_count": 23,
   "id": "fbe18949-100f-4660-8810-e965eb067142",
   "metadata": {},
   "outputs": [
    {
     "data": {
      "text/plain": [
       "year              0\n",
       "effective_rate    0\n",
       "cik               0\n",
       "gvkey             0\n",
       "datadate          0\n",
       "conm              0\n",
       "revt              0\n",
       "ni                0\n",
       "house income      0\n",
       "index             0\n",
       "month             0\n",
       "dtype: int64"
      ]
     },
     "execution_count": 23,
     "metadata": {},
     "output_type": "execute_result"
    }
   ],
   "source": [
    "# Review NaN data after outer join.\n",
    "pd.merge(\n",
    "    dff_econ_ann2_real_estate_agts_n_mgr_wo_na, econ_2010_2023, how=\"outer\", on=[\"year\",\"gvkey\",\"datadate\",\"cik\",\"conm\",\"revt\",\"ni\"]\n",
    ").isnull().sum()"
   ]
  },
  {
   "cell_type": "code",
   "execution_count": 20,
   "id": "6a683c98-ad28-4067-9bc8-94ff30d3e87b",
   "metadata": {},
   "outputs": [
    {
     "data": {
      "text/plain": [
       "(248, 11)"
      ]
     },
     "execution_count": 20,
     "metadata": {},
     "output_type": "execute_result"
    }
   ],
   "source": [
    "# Review the shape of data after right join.\n",
    "pd.merge(\n",
    "    dff_econ_ann2_real_estate_agts_n_mgr_wo_na, econ_2010_2023, how=\"right\", on=[\"year\",\"gvkey\",\"datadate\",\"cik\",\"conm\",\"revt\",\"ni\"]\n",
    ").shape"
   ]
  },
  {
   "cell_type": "code",
   "execution_count": 24,
   "id": "2e5a6b1a-2c30-4975-a8ca-b903a050a994",
   "metadata": {},
   "outputs": [
    {
     "data": {
      "text/plain": [
       "year              0\n",
       "effective_rate    0\n",
       "cik               0\n",
       "gvkey             0\n",
       "datadate          0\n",
       "conm              0\n",
       "revt              0\n",
       "ni                0\n",
       "house income      0\n",
       "index             0\n",
       "month             0\n",
       "dtype: int64"
      ]
     },
     "execution_count": 24,
     "metadata": {},
     "output_type": "execute_result"
    }
   ],
   "source": [
    "# Review NaN data after right join.\n",
    "pd.merge(\n",
    "    dff_econ_ann2_real_estate_agts_n_mgr_wo_na, econ_2010_2023, how=\"right\", on=[\"year\",\"gvkey\",\"datadate\",\"cik\",\"conm\",\"revt\",\"ni\"]\n",
    ").isnull().sum()"
   ]
  },
  {
   "cell_type": "markdown",
   "id": "f328475b-2b7c-4fd4-ac01-691006b4e5ed",
   "metadata": {},
   "source": [
    "#### <font color=\"green\">Analysis before merging.</font>\n",
    "\n",
    "All joins yield the same number of rows and none of the joins leads to null values, we can apply any type of join here. I am going ahead with **inner join** as it brings common data and does not incur any loss or missing values."
   ]
  },
  {
   "cell_type": "markdown",
   "id": "e9795700-4e13-467c-b3b2-269f82b4cfc2",
   "metadata": {},
   "source": [
    "#### <font color=\"blue\">Merging interest rate and labor force datasets.</font>"
   ]
  },
  {
   "cell_type": "code",
   "execution_count": 34,
   "id": "bcd20f33-d3d4-4162-88a7-7a7840fa2a16",
   "metadata": {},
   "outputs": [],
   "source": [
    "# Merging interest rate and labor force data.\n",
    "dff_labor_force_econ = pd.merge(\n",
    "    dff_econ_ann2_real_estate_agts_n_mgr_wo_na, econ_2010_2023, how=\"inner\", on=[\"year\",\"gvkey\",\"datadate\",\"cik\",\"conm\",\"revt\",\"ni\"]\n",
    ")"
   ]
  },
  {
   "cell_type": "code",
   "execution_count": 35,
   "id": "24eae58b-7dfb-471a-9efa-e18bdb60705b",
   "metadata": {},
   "outputs": [
    {
     "name": "stdout",
     "output_type": "stream",
     "text": [
      "<class 'pandas.core.frame.DataFrame'>\n",
      "RangeIndex: 248 entries, 0 to 247\n",
      "Data columns (total 11 columns):\n",
      " #   Column          Non-Null Count  Dtype         \n",
      "---  ------          --------------  -----         \n",
      " 0   year            248 non-null    int32         \n",
      " 1   effective_rate  248 non-null    float64       \n",
      " 2   cik             248 non-null    object        \n",
      " 3   gvkey           248 non-null    object        \n",
      " 4   datadate        248 non-null    datetime64[ns]\n",
      " 5   conm            248 non-null    object        \n",
      " 6   revt            248 non-null    float64       \n",
      " 7   ni              248 non-null    float64       \n",
      " 8   house income    248 non-null    float64       \n",
      " 9   index           248 non-null    int64         \n",
      " 10  month           248 non-null    int32         \n",
      "dtypes: datetime64[ns](1), float64(4), int32(2), int64(1), object(3)\n",
      "memory usage: 19.5+ KB\n"
     ]
    }
   ],
   "source": [
    "# Verify the summary of data after merging datasets.\n",
    "dff_labor_force_econ.info()"
   ]
  },
  {
   "cell_type": "markdown",
   "id": "154cfc58-a9da-41b7-b78b-5f3f09b050ef",
   "metadata": {},
   "source": [
    "#### <font color=\"red\">Save merged dataset to persistent storage.</font>"
   ]
  },
  {
   "cell_type": "code",
   "execution_count": 36,
   "id": "87f1f946-5c03-47e6-88c1-e0e04d225330",
   "metadata": {},
   "outputs": [
    {
     "name": "stdout",
     "output_type": "stream",
     "text": [
      "Stored 'dff_labor_force_econ' (DataFrame)\n"
     ]
    }
   ],
   "source": [
    "# Save to persistent storage.\n",
    "%store dff_labor_force_econ"
   ]
  },
  {
   "cell_type": "markdown",
   "id": "beae59a6-d46c-4823-a63f-7afb5c34ae03",
   "metadata": {},
   "source": [
    "#### <font color=\"blue\">Preview impact of merging interest rates and population level</font>\n",
    "\n",
    "First, we explore different join types by reviewing how they affect the merged dataset."
   ]
  },
  {
   "cell_type": "code",
   "execution_count": 28,
   "id": "99d81c44-5122-43b1-95d8-5131ce31a8f1",
   "metadata": {},
   "outputs": [
    {
     "data": {
      "text/plain": [
       "(248, 9)"
      ]
     },
     "execution_count": 28,
     "metadata": {},
     "output_type": "execute_result"
    }
   ],
   "source": [
    "# Review the shape of data after left join.\n",
    "pd.merge(\n",
    "    dff_econ_ann2_real_estate_agts_n_mgr_wo_na, econ_r, how=\"left\", on=[\"year\",\"gvkey\",\"datadate\",\"cik\",\"conm\",\"revt\",\"ni\"]\n",
    ").shape"
   ]
  },
  {
   "cell_type": "code",
   "execution_count": 29,
   "id": "76b65f30-abe5-4480-83b8-3cf412564159",
   "metadata": {},
   "outputs": [
    {
     "data": {
      "text/plain": [
       "year                    0\n",
       "effective_rate          0\n",
       "cik                     0\n",
       "gvkey                   0\n",
       "datadate                0\n",
       "conm                    0\n",
       "revt                    0\n",
       "ni                      0\n",
       "Thousands of Persons    0\n",
       "dtype: int64"
      ]
     },
     "execution_count": 29,
     "metadata": {},
     "output_type": "execute_result"
    }
   ],
   "source": [
    "# Review NaN data after left join.\n",
    "pd.merge(\n",
    "    dff_econ_ann2_real_estate_agts_n_mgr_wo_na, econ_r, how=\"left\", on=[\"year\",\"gvkey\",\"datadate\",\"cik\",\"conm\",\"revt\",\"ni\"]\n",
    ").isnull().sum()"
   ]
  },
  {
   "cell_type": "code",
   "execution_count": 30,
   "id": "817da434-c7c4-4828-8542-635d2c25bfe9",
   "metadata": {},
   "outputs": [
    {
     "data": {
      "text/plain": [
       "(248, 9)"
      ]
     },
     "execution_count": 30,
     "metadata": {},
     "output_type": "execute_result"
    }
   ],
   "source": [
    "# Review the shape of data after inner join.\n",
    "pd.merge(\n",
    "    dff_econ_ann2_real_estate_agts_n_mgr_wo_na, econ_r, how=\"inner\", on=[\"year\",\"gvkey\",\"datadate\",\"cik\",\"conm\",\"revt\",\"ni\"]\n",
    ").shape"
   ]
  },
  {
   "cell_type": "code",
   "execution_count": 31,
   "id": "ad74d8b8-0528-465d-af02-d7314c649c8f",
   "metadata": {},
   "outputs": [
    {
     "data": {
      "text/plain": [
       "year                    0\n",
       "effective_rate          0\n",
       "cik                     0\n",
       "gvkey                   0\n",
       "datadate                0\n",
       "conm                    0\n",
       "revt                    0\n",
       "ni                      0\n",
       "Thousands of Persons    0\n",
       "dtype: int64"
      ]
     },
     "execution_count": 31,
     "metadata": {},
     "output_type": "execute_result"
    }
   ],
   "source": [
    "# Review NaN data after inner join.\n",
    "pd.merge(\n",
    "    dff_econ_ann2_real_estate_agts_n_mgr_wo_na, econ_r, how=\"inner\", on=[\"year\",\"gvkey\",\"datadate\",\"cik\",\"conm\",\"revt\",\"ni\"]\n",
    ").isnull().sum()"
   ]
  },
  {
   "cell_type": "code",
   "execution_count": 32,
   "id": "c0445aeb-9e4c-4cac-a464-1717d79a5062",
   "metadata": {},
   "outputs": [
    {
     "data": {
      "text/plain": [
       "(248, 9)"
      ]
     },
     "execution_count": 32,
     "metadata": {},
     "output_type": "execute_result"
    }
   ],
   "source": [
    "# Review the shape of data after outer join.\n",
    "pd.merge(\n",
    "    dff_econ_ann2_real_estate_agts_n_mgr_wo_na, econ_r, how=\"outer\", on=[\"year\",\"gvkey\",\"datadate\",\"cik\",\"conm\",\"revt\",\"ni\"]\n",
    ").shape"
   ]
  },
  {
   "cell_type": "code",
   "execution_count": 33,
   "id": "d69de216-45fc-4d0a-841d-067ba50853a1",
   "metadata": {},
   "outputs": [
    {
     "data": {
      "text/plain": [
       "year                    0\n",
       "effective_rate          0\n",
       "cik                     0\n",
       "gvkey                   0\n",
       "datadate                0\n",
       "conm                    0\n",
       "revt                    0\n",
       "ni                      0\n",
       "Thousands of Persons    0\n",
       "dtype: int64"
      ]
     },
     "execution_count": 33,
     "metadata": {},
     "output_type": "execute_result"
    }
   ],
   "source": [
    "# Review NaN data after outer join.\n",
    "pd.merge(\n",
    "    dff_econ_ann2_real_estate_agts_n_mgr_wo_na, econ_r, how=\"outer\", on=[\"year\",\"gvkey\",\"datadate\",\"cik\",\"conm\",\"revt\",\"ni\"]\n",
    ").isnull().sum()"
   ]
  },
  {
   "cell_type": "markdown",
   "id": "e1380ec4-8867-4006-930c-dc3bb97d5da1",
   "metadata": {},
   "source": [
    "#### <font color=\"green\">Analysis before merging interest rates and population level datasets.</font>\n",
    "\n",
    "Like the earlier merge of interest rates and labor force dataset merge, all joins yield the same number of rows and none of the joins leads to null values, we can apply any type of join here. I am going ahead with **inner join**."
   ]
  },
  {
   "cell_type": "code",
   "execution_count": 37,
   "id": "b3af64d2-3aa1-4edd-a58e-306e61816cff",
   "metadata": {},
   "outputs": [],
   "source": [
    "# Merging interest rate and population level data.\n",
    "dff_population_lvl_econ = pd.merge(\n",
    "    dff_econ_ann2_real_estate_agts_n_mgr_wo_na, econ_r, how=\"inner\", on=[\"year\",\"gvkey\",\"datadate\",\"cik\",\"conm\",\"revt\",\"ni\"]\n",
    ")"
   ]
  },
  {
   "cell_type": "code",
   "execution_count": 38,
   "id": "44429aa5-6abc-4e0e-9686-9151850db26e",
   "metadata": {},
   "outputs": [
    {
     "name": "stdout",
     "output_type": "stream",
     "text": [
      "<class 'pandas.core.frame.DataFrame'>\n",
      "RangeIndex: 248 entries, 0 to 247\n",
      "Data columns (total 9 columns):\n",
      " #   Column                Non-Null Count  Dtype         \n",
      "---  ------                --------------  -----         \n",
      " 0   year                  248 non-null    int32         \n",
      " 1   effective_rate        248 non-null    float64       \n",
      " 2   cik                   248 non-null    object        \n",
      " 3   gvkey                 248 non-null    object        \n",
      " 4   datadate              248 non-null    datetime64[ns]\n",
      " 5   conm                  248 non-null    object        \n",
      " 6   revt                  248 non-null    float64       \n",
      " 7   ni                    248 non-null    float64       \n",
      " 8   Thousands of Persons  248 non-null    float64       \n",
      "dtypes: datetime64[ns](1), float64(4), int32(1), object(3)\n",
      "memory usage: 16.6+ KB\n"
     ]
    }
   ],
   "source": [
    "# Verify the summary of data after merging datasets.\n",
    "dff_population_lvl_econ.info()"
   ]
  },
  {
   "cell_type": "markdown",
   "id": "d49e6a81-e48b-4bfe-a53c-d6ff226b8792",
   "metadata": {},
   "source": [
    "#### <font color=\"red\">Save merged interest rates and population level dataset to persistent storage.</font>"
   ]
  },
  {
   "cell_type": "code",
   "execution_count": 39,
   "id": "84d598a2-3644-48d3-a5a9-10ab63db14b3",
   "metadata": {},
   "outputs": [
    {
     "name": "stdout",
     "output_type": "stream",
     "text": [
      "Stored 'dff_population_lvl_econ' (DataFrame)\n"
     ]
    }
   ],
   "source": [
    "%store dff_population_lvl_econ"
   ]
  },
  {
   "cell_type": "markdown",
   "id": "16628f3a-6fc3-4224-9dad-7f6d39c14bd2",
   "metadata": {},
   "source": [
    "#### <font color=\"blue\">Merging population level and labor force datasets.</font>"
   ]
  },
  {
   "cell_type": "markdown",
   "id": "1d60bd76-7915-4ebf-837c-fe2f3755394c",
   "metadata": {},
   "source": [
    "#### <font color=\"blue\">Preview impact of merging population level and labor force datasets</font>\n",
    "\n",
    "First, we explore different join types by reviewing how they affect the merged dataset."
   ]
  },
  {
   "cell_type": "code",
   "execution_count": 41,
   "id": "36e2aa69-efee-4ee3-915c-abb50ca57f78",
   "metadata": {},
   "outputs": [
    {
     "data": {
      "text/plain": [
       "(248, 11)"
      ]
     },
     "execution_count": 41,
     "metadata": {},
     "output_type": "execute_result"
    }
   ],
   "source": [
    "# Review the shape of data after left join.\n",
    "pd.merge(\n",
    "    econ_r, econ_2010_2023, how=\"left\", on=[\"year\",\"gvkey\",\"datadate\",\"cik\",\"conm\",\"revt\",\"ni\"]\n",
    ").shape"
   ]
  },
  {
   "cell_type": "code",
   "execution_count": 42,
   "id": "0c009a0b-cab0-47ba-bf7d-8a75cd00fed4",
   "metadata": {},
   "outputs": [
    {
     "data": {
      "text/plain": [
       "year                    0\n",
       "Thousands of Persons    0\n",
       "cik                     0\n",
       "gvkey                   0\n",
       "datadate                0\n",
       "conm                    0\n",
       "revt                    0\n",
       "ni                      0\n",
       "house income            0\n",
       "index                   0\n",
       "month                   0\n",
       "dtype: int64"
      ]
     },
     "execution_count": 42,
     "metadata": {},
     "output_type": "execute_result"
    }
   ],
   "source": [
    "# Review NaN data after left join.\n",
    "pd.merge(\n",
    "    econ_r, econ_2010_2023, how=\"left\", on=[\"year\",\"gvkey\",\"datadate\",\"cik\",\"conm\",\"revt\",\"ni\"]\n",
    ").isnull().sum()"
   ]
  },
  {
   "cell_type": "code",
   "execution_count": 43,
   "id": "1ba4a7d3-0c7f-42fa-8f79-45aae876fb59",
   "metadata": {},
   "outputs": [
    {
     "data": {
      "text/plain": [
       "(248, 11)"
      ]
     },
     "execution_count": 43,
     "metadata": {},
     "output_type": "execute_result"
    }
   ],
   "source": [
    "# Review the shape of data after inner join.\n",
    "pd.merge(\n",
    "    econ_r, econ_2010_2023, how=\"inner\", on=[\"year\",\"gvkey\",\"datadate\",\"cik\",\"conm\",\"revt\",\"ni\"]\n",
    ").shape"
   ]
  },
  {
   "cell_type": "code",
   "execution_count": 44,
   "id": "3afebb02-5337-4499-a244-48f847d59158",
   "metadata": {},
   "outputs": [
    {
     "data": {
      "text/plain": [
       "year                    0\n",
       "Thousands of Persons    0\n",
       "cik                     0\n",
       "gvkey                   0\n",
       "datadate                0\n",
       "conm                    0\n",
       "revt                    0\n",
       "ni                      0\n",
       "house income            0\n",
       "index                   0\n",
       "month                   0\n",
       "dtype: int64"
      ]
     },
     "execution_count": 44,
     "metadata": {},
     "output_type": "execute_result"
    }
   ],
   "source": [
    "# Review NaN data after inner join.\n",
    "pd.merge(\n",
    "    econ_r, econ_2010_2023, how=\"inner\", on=[\"year\",\"gvkey\",\"datadate\",\"cik\",\"conm\",\"revt\",\"ni\"]\n",
    ").isnull().sum()"
   ]
  },
  {
   "cell_type": "code",
   "execution_count": 45,
   "id": "0bdcbabd-95bc-4f4b-b4aa-ce27447021ba",
   "metadata": {},
   "outputs": [
    {
     "data": {
      "text/plain": [
       "(248, 11)"
      ]
     },
     "execution_count": 45,
     "metadata": {},
     "output_type": "execute_result"
    }
   ],
   "source": [
    "# Review the shape of data after outer join.\n",
    "pd.merge(\n",
    "    econ_r, econ_2010_2023, how=\"outer\", on=[\"year\",\"gvkey\",\"datadate\",\"cik\",\"conm\",\"revt\",\"ni\"]\n",
    ").shape"
   ]
  },
  {
   "cell_type": "code",
   "execution_count": 46,
   "id": "8371e0dc-5d13-43c1-8233-90c71aa16d41",
   "metadata": {},
   "outputs": [
    {
     "data": {
      "text/plain": [
       "year                    0\n",
       "Thousands of Persons    0\n",
       "cik                     0\n",
       "gvkey                   0\n",
       "datadate                0\n",
       "conm                    0\n",
       "revt                    0\n",
       "ni                      0\n",
       "house income            0\n",
       "index                   0\n",
       "month                   0\n",
       "dtype: int64"
      ]
     },
     "execution_count": 46,
     "metadata": {},
     "output_type": "execute_result"
    }
   ],
   "source": [
    "# Review NaN/mising data after outer join.\n",
    "pd.merge(\n",
    "    econ_r, econ_2010_2023, how=\"outer\", on=[\"year\",\"gvkey\",\"datadate\",\"cik\",\"conm\",\"revt\",\"ni\"]\n",
    ").isnull().sum()"
   ]
  },
  {
   "cell_type": "markdown",
   "id": "69568848-8535-4bbd-927e-ebf0fbce4c3e",
   "metadata": {},
   "source": [
    "#### <font color=\"green\">Analysis before merging population level and labor flows datasets.</font>\n",
    "\n",
    "Like the earlier merged datasets, all joins yield the same number of rows and none of the joins leads to null values, we can apply any type of join here. I am going ahead with **inner join**."
   ]
  },
  {
   "cell_type": "code",
   "execution_count": 47,
   "id": "8c82148e-23e9-4116-be72-235efc4ae46a",
   "metadata": {},
   "outputs": [
    {
     "name": "stdout",
     "output_type": "stream",
     "text": [
      "<class 'pandas.core.frame.DataFrame'>\n",
      "RangeIndex: 248 entries, 0 to 247\n",
      "Data columns (total 11 columns):\n",
      " #   Column                Non-Null Count  Dtype         \n",
      "---  ------                --------------  -----         \n",
      " 0   year                  248 non-null    int32         \n",
      " 1   Thousands of Persons  248 non-null    float64       \n",
      " 2   cik                   248 non-null    object        \n",
      " 3   gvkey                 248 non-null    object        \n",
      " 4   datadate              248 non-null    datetime64[ns]\n",
      " 5   conm                  248 non-null    object        \n",
      " 6   revt                  248 non-null    float64       \n",
      " 7   ni                    248 non-null    float64       \n",
      " 8   house income          248 non-null    float64       \n",
      " 9   index                 248 non-null    int64         \n",
      " 10  month                 248 non-null    int32         \n",
      "dtypes: datetime64[ns](1), float64(4), int32(2), int64(1), object(3)\n",
      "memory usage: 19.5+ KB\n"
     ]
    }
   ],
   "source": [
    "# Merging interest rate and population level data.\n",
    "population_lvl_labor_flow_econ = pd.merge(\n",
    "    econ_r, econ_2010_2023, how=\"inner\", on=[\"year\",\"gvkey\",\"datadate\",\"cik\",\"conm\",\"revt\",\"ni\"]\n",
    ")\n",
    "\n",
    "# Verify the summary of data after merging datasets.\n",
    "population_lvl_labor_flow_econ.info()"
   ]
  },
  {
   "cell_type": "markdown",
   "id": "4b093db8-b6f8-49b0-8135-535f8cc515ad",
   "metadata": {},
   "source": [
    "#### <font color=\"red\">Save merged population level and labor flows dataset to persistent storage.</font>"
   ]
  },
  {
   "cell_type": "code",
   "execution_count": 48,
   "id": "501096f1-55fa-4e7d-84a0-43b41c277a4a",
   "metadata": {},
   "outputs": [
    {
     "name": "stdout",
     "output_type": "stream",
     "text": [
      "Stored 'population_lvl_labor_flow_econ' (DataFrame)\n"
     ]
    }
   ],
   "source": [
    "# Save to persistent storage.\n",
    "%store population_lvl_labor_flow_econ"
   ]
  },
  {
   "cell_type": "markdown",
   "id": "9296a237-f422-476c-a6b3-50c2f1f1750c",
   "metadata": {},
   "source": [
    "### <font color=\"red\">Merged datasets</font>\n",
    "\n",
    "So far we have 6 datasets. We will add more datasets for analysis later. Here are the available 6 datasets.\n",
    "\n",
    "1. `dff_econ_ann2_real_estate_agts_n_mgr_wo_na`\n",
    "2. `econ_2010_2023`\n",
    "3. `econ_r`\n",
    "4. `dff_labor_force_econ`\n",
    "5. `dff_population_lvl_econ`\n",
    "6. `population_lvl_labor_flow_econ`"
   ]
  },
  {
   "cell_type": "markdown",
   "id": "40d72824-32f8-4ecd-a72c-78a342c0f8c6",
   "metadata": {},
   "source": [
    "***"
   ]
  },
  {
   "cell_type": "markdown",
   "id": "03f3c0bd-4659-4f56-899b-9b6fefd0da26",
   "metadata": {},
   "source": [
    "## <font color=\"Blue\">One analysis</font>\n",
    "\n",
    "As asked in-class the exercise, we are going to perform graph analysis on one of the datasets. I am going to do an analysis on `dff_econ_ann2_real_estate_agts_n_mgr_wo_na` dataset.\n",
    "\n",
    "I am going to present the impact of revenue on the year of Presidential elections in the US dring 2010-2020. During that time period, the Presidential elections happened in the following years.\n",
    "1. 2012\n",
    "2. 2016\n",
    "3. 2020"
   ]
  },
  {
   "cell_type": "markdown",
   "id": "ece61db9-9993-428a-a9c5-4aaa16122eee",
   "metadata": {},
   "source": [
    "#### <font color=\"blue\">Duplicate data check</font>"
   ]
  },
  {
   "cell_type": "code",
   "execution_count": 49,
   "id": "6a01ebd1-b1f4-422a-bf2e-c7dd025f9390",
   "metadata": {},
   "outputs": [
    {
     "data": {
      "text/plain": [
       "0      False\n",
       "1      False\n",
       "2      False\n",
       "3      False\n",
       "4      False\n",
       "       ...  \n",
       "243    False\n",
       "244    False\n",
       "245    False\n",
       "246    False\n",
       "247    False\n",
       "Length: 248, dtype: bool"
      ]
     },
     "execution_count": 49,
     "metadata": {},
     "output_type": "execute_result"
    }
   ],
   "source": [
    "# Verify duplicates in dataset.\n",
    "dff_econ_ann2_real_estate_agts_n_mgr_wo_na.duplicated()"
   ]
  },
  {
   "cell_type": "code",
   "execution_count": 50,
   "id": "bbde9646-0568-407a-8573-bf147b340eea",
   "metadata": {},
   "outputs": [
    {
     "data": {
      "text/plain": [
       "False    248\n",
       "Name: count, dtype: int64"
      ]
     },
     "execution_count": 50,
     "metadata": {},
     "output_type": "execute_result"
    }
   ],
   "source": [
    "# Since we have a larger dataset, so duplicated is not meaningful.\n",
    "# For larger dataset, use it with value_counts function.\n",
    "dff_econ_ann2_real_estate_agts_n_mgr_wo_na.duplicated().value_counts()"
   ]
  },
  {
   "cell_type": "markdown",
   "id": "242347dc-0e3a-43e1-800e-56619eda2403",
   "metadata": {},
   "source": [
    "#### <font color=\"blue\">Review and modify datatypes</font>"
   ]
  },
  {
   "cell_type": "code",
   "execution_count": 51,
   "id": "43e4aeb3-be12-49cc-abd0-c20c350fc0dc",
   "metadata": {},
   "outputs": [
    {
     "name": "stdout",
     "output_type": "stream",
     "text": [
      "year                       int32\n",
      "effective_rate           float64\n",
      "cik                       object\n",
      "gvkey                     object\n",
      "datadate          datetime64[ns]\n",
      "conm                      object\n",
      "revt                     float64\n",
      "ni                       float64\n",
      "dtype: object\n"
     ]
    }
   ],
   "source": [
    "# Review datatypes\n",
    "print(dff_econ_ann2_real_estate_agts_n_mgr_wo_na.dtypes)"
   ]
  },
  {
   "cell_type": "markdown",
   "id": "59ddd5ce-663a-4fe7-bf09-e10a2c5d5c44",
   "metadata": {},
   "source": [
    "#### <font color=\"green\">Analysis of datatypes</font>\n",
    "All the data types are perfect. Year is an integer type, effective_rate, revt, and ni are float types. cik,gvkey,conm are string values."
   ]
  },
  {
   "cell_type": "code",
   "execution_count": 52,
   "id": "e983aa80-d748-49a2-b648-ffcf099511a3",
   "metadata": {},
   "outputs": [],
   "source": [
    "# Import the graph plot library.\n",
    "import matplotlib.pyplot as plt"
   ]
  },
  {
   "cell_type": "code",
   "execution_count": 54,
   "id": "e479881a-897e-4545-a014-40988a97db6b",
   "metadata": {},
   "outputs": [
    {
     "data": {
      "text/html": [
       "<div>\n",
       "<style scoped>\n",
       "    .dataframe tbody tr th:only-of-type {\n",
       "        vertical-align: middle;\n",
       "    }\n",
       "\n",
       "    .dataframe tbody tr th {\n",
       "        vertical-align: top;\n",
       "    }\n",
       "\n",
       "    .dataframe thead th {\n",
       "        text-align: right;\n",
       "    }\n",
       "</style>\n",
       "<table border=\"1\" class=\"dataframe\">\n",
       "  <thead>\n",
       "    <tr style=\"text-align: right;\">\n",
       "      <th></th>\n",
       "      <th>year</th>\n",
       "      <th>effective_rate</th>\n",
       "      <th>cik</th>\n",
       "      <th>gvkey</th>\n",
       "      <th>datadate</th>\n",
       "      <th>conm</th>\n",
       "      <th>revt</th>\n",
       "      <th>ni</th>\n",
       "    </tr>\n",
       "  </thead>\n",
       "  <tbody>\n",
       "    <tr>\n",
       "      <th>35</th>\n",
       "      <td>2012</td>\n",
       "      <td>0.140574</td>\n",
       "      <td>0001477324</td>\n",
       "      <td>184116</td>\n",
       "      <td>2012-12-31</td>\n",
       "      <td>IFM INVESTMENTS LTD</td>\n",
       "      <td>120.084</td>\n",
       "      <td>-8.589</td>\n",
       "    </tr>\n",
       "    <tr>\n",
       "      <th>36</th>\n",
       "      <td>2012</td>\n",
       "      <td>0.140574</td>\n",
       "      <td>0001581091</td>\n",
       "      <td>018578</td>\n",
       "      <td>2012-12-31</td>\n",
       "      <td>RE/MAX HOLDINGS INC</td>\n",
       "      <td>143.677</td>\n",
       "      <td>33.324</td>\n",
       "    </tr>\n",
       "    <tr>\n",
       "      <th>37</th>\n",
       "      <td>2012</td>\n",
       "      <td>0.140574</td>\n",
       "      <td>0001408100</td>\n",
       "      <td>025632</td>\n",
       "      <td>2012-12-31</td>\n",
       "      <td>KENNEDY-WILSON HOLDINGS INC</td>\n",
       "      <td>64.056</td>\n",
       "      <td>4.250</td>\n",
       "    </tr>\n",
       "    <tr>\n",
       "      <th>38</th>\n",
       "      <td>2012</td>\n",
       "      <td>0.140574</td>\n",
       "      <td>0001025953</td>\n",
       "      <td>065737</td>\n",
       "      <td>2012-12-31</td>\n",
       "      <td>NOVATION COS INC</td>\n",
       "      <td>196.124</td>\n",
       "      <td>59.187</td>\n",
       "    </tr>\n",
       "    <tr>\n",
       "      <th>39</th>\n",
       "      <td>2012</td>\n",
       "      <td>0.140574</td>\n",
       "      <td>0001328208</td>\n",
       "      <td>165463</td>\n",
       "      <td>2012-12-31</td>\n",
       "      <td>GOLDEN GATE PARTNERS INC</td>\n",
       "      <td>0.663</td>\n",
       "      <td>-0.010</td>\n",
       "    </tr>\n",
       "    <tr>\n",
       "      <th>40</th>\n",
       "      <td>2012</td>\n",
       "      <td>0.140574</td>\n",
       "      <td>0001361658</td>\n",
       "      <td>174729</td>\n",
       "      <td>2012-12-31</td>\n",
       "      <td>TRAVEL PLUS LEISURE CO</td>\n",
       "      <td>4534.000</td>\n",
       "      <td>400.000</td>\n",
       "    </tr>\n",
       "    <tr>\n",
       "      <th>41</th>\n",
       "      <td>2012</td>\n",
       "      <td>0.140574</td>\n",
       "      <td>0001405658</td>\n",
       "      <td>178093</td>\n",
       "      <td>2012-12-31</td>\n",
       "      <td>E-HOUSE CHINA HOLDINGS  -ADR</td>\n",
       "      <td>462.439</td>\n",
       "      <td>-56.971</td>\n",
       "    </tr>\n",
       "    <tr>\n",
       "      <th>42</th>\n",
       "      <td>2012</td>\n",
       "      <td>0.140574</td>\n",
       "      <td>0001753886</td>\n",
       "      <td>160207</td>\n",
       "      <td>2012-12-31</td>\n",
       "      <td>STONEMOR INC</td>\n",
       "      <td>242.606</td>\n",
       "      <td>-3.013</td>\n",
       "    </tr>\n",
       "    <tr>\n",
       "      <th>43</th>\n",
       "      <td>2012</td>\n",
       "      <td>0.140574</td>\n",
       "      <td>0001430523</td>\n",
       "      <td>181256</td>\n",
       "      <td>2012-10-31</td>\n",
       "      <td>VERUS INTERNATIONAL INC</td>\n",
       "      <td>1.172</td>\n",
       "      <td>-0.963</td>\n",
       "    </tr>\n",
       "    <tr>\n",
       "      <th>44</th>\n",
       "      <td>2012</td>\n",
       "      <td>0.140574</td>\n",
       "      <td>0001527675</td>\n",
       "      <td>011905</td>\n",
       "      <td>2012-06-30</td>\n",
       "      <td>WUNONG ASIA PACIFIC CO</td>\n",
       "      <td>0.000</td>\n",
       "      <td>-0.043</td>\n",
       "    </tr>\n",
       "    <tr>\n",
       "      <th>45</th>\n",
       "      <td>2012</td>\n",
       "      <td>0.140574</td>\n",
       "      <td>0001578732</td>\n",
       "      <td>019000</td>\n",
       "      <td>2012-12-31</td>\n",
       "      <td>MARCUS &amp; MILLICHAP INC</td>\n",
       "      <td>385.716</td>\n",
       "      <td>27.934</td>\n",
       "    </tr>\n",
       "    <tr>\n",
       "      <th>46</th>\n",
       "      <td>2012</td>\n",
       "      <td>0.140574</td>\n",
       "      <td>0001142512</td>\n",
       "      <td>160503</td>\n",
       "      <td>2012-12-31</td>\n",
       "      <td>ZIPREALTY INC</td>\n",
       "      <td>73.820</td>\n",
       "      <td>-9.678</td>\n",
       "    </tr>\n",
       "    <tr>\n",
       "      <th>47</th>\n",
       "      <td>2012</td>\n",
       "      <td>0.140574</td>\n",
       "      <td>0000083402</td>\n",
       "      <td>009083</td>\n",
       "      <td>2012-09-30</td>\n",
       "      <td>RESOURCE AMERICA INC</td>\n",
       "      <td>170.900</td>\n",
       "      <td>25.507</td>\n",
       "    </tr>\n",
       "    <tr>\n",
       "      <th>48</th>\n",
       "      <td>2012</td>\n",
       "      <td>0.140574</td>\n",
       "      <td>0000778946</td>\n",
       "      <td>011877</td>\n",
       "      <td>2012-12-31</td>\n",
       "      <td>BLUEGREEN VACATNS CORP</td>\n",
       "      <td>456.860</td>\n",
       "      <td>39.709</td>\n",
       "    </tr>\n",
       "    <tr>\n",
       "      <th>49</th>\n",
       "      <td>2012</td>\n",
       "      <td>0.140574</td>\n",
       "      <td>0001402453</td>\n",
       "      <td>015715</td>\n",
       "      <td>2012-12-31</td>\n",
       "      <td>HER IMPORTS</td>\n",
       "      <td>1.495</td>\n",
       "      <td>-0.624</td>\n",
       "    </tr>\n",
       "    <tr>\n",
       "      <th>50</th>\n",
       "      <td>2012</td>\n",
       "      <td>0.140574</td>\n",
       "      <td>0000913353</td>\n",
       "      <td>028485</td>\n",
       "      <td>2012-12-31</td>\n",
       "      <td>COLLIERS INTL GROUP INC</td>\n",
       "      <td>2305.537</td>\n",
       "      <td>5.850</td>\n",
       "    </tr>\n",
       "    <tr>\n",
       "      <th>51</th>\n",
       "      <td>2012</td>\n",
       "      <td>0.140574</td>\n",
       "      <td>0001037976</td>\n",
       "      <td>065108</td>\n",
       "      <td>2012-12-31</td>\n",
       "      <td>JONES LANG LASALLE INC</td>\n",
       "      <td>3932.830</td>\n",
       "      <td>208.050</td>\n",
       "    </tr>\n",
       "    <tr>\n",
       "      <th>52</th>\n",
       "      <td>2012</td>\n",
       "      <td>0.140574</td>\n",
       "      <td>0001083490</td>\n",
       "      <td>139133</td>\n",
       "      <td>2012-12-31</td>\n",
       "      <td>SUNRISE REAL ESTATE GRP INC</td>\n",
       "      <td>8.530</td>\n",
       "      <td>-3.093</td>\n",
       "    </tr>\n",
       "    <tr>\n",
       "      <th>53</th>\n",
       "      <td>2012</td>\n",
       "      <td>0.140574</td>\n",
       "      <td>0001398987</td>\n",
       "      <td>174022</td>\n",
       "      <td>2012-12-31</td>\n",
       "      <td>ANYWHERE REAL ESTATE INC</td>\n",
       "      <td>4672.000</td>\n",
       "      <td>-543.000</td>\n",
       "    </tr>\n",
       "    <tr>\n",
       "      <th>54</th>\n",
       "      <td>2012</td>\n",
       "      <td>0.140574</td>\n",
       "      <td>0001434620</td>\n",
       "      <td>180395</td>\n",
       "      <td>2012-12-31</td>\n",
       "      <td>ILG INC</td>\n",
       "      <td>473.339</td>\n",
       "      <td>40.702</td>\n",
       "    </tr>\n",
       "  </tbody>\n",
       "</table>\n",
       "</div>"
      ],
      "text/plain": [
       "    year  effective_rate         cik   gvkey   datadate  \\\n",
       "35  2012        0.140574  0001477324  184116 2012-12-31   \n",
       "36  2012        0.140574  0001581091  018578 2012-12-31   \n",
       "37  2012        0.140574  0001408100  025632 2012-12-31   \n",
       "38  2012        0.140574  0001025953  065737 2012-12-31   \n",
       "39  2012        0.140574  0001328208  165463 2012-12-31   \n",
       "40  2012        0.140574  0001361658  174729 2012-12-31   \n",
       "41  2012        0.140574  0001405658  178093 2012-12-31   \n",
       "42  2012        0.140574  0001753886  160207 2012-12-31   \n",
       "43  2012        0.140574  0001430523  181256 2012-10-31   \n",
       "44  2012        0.140574  0001527675  011905 2012-06-30   \n",
       "45  2012        0.140574  0001578732  019000 2012-12-31   \n",
       "46  2012        0.140574  0001142512  160503 2012-12-31   \n",
       "47  2012        0.140574  0000083402  009083 2012-09-30   \n",
       "48  2012        0.140574  0000778946  011877 2012-12-31   \n",
       "49  2012        0.140574  0001402453  015715 2012-12-31   \n",
       "50  2012        0.140574  0000913353  028485 2012-12-31   \n",
       "51  2012        0.140574  0001037976  065108 2012-12-31   \n",
       "52  2012        0.140574  0001083490  139133 2012-12-31   \n",
       "53  2012        0.140574  0001398987  174022 2012-12-31   \n",
       "54  2012        0.140574  0001434620  180395 2012-12-31   \n",
       "\n",
       "                            conm      revt       ni  \n",
       "35           IFM INVESTMENTS LTD   120.084   -8.589  \n",
       "36           RE/MAX HOLDINGS INC   143.677   33.324  \n",
       "37   KENNEDY-WILSON HOLDINGS INC    64.056    4.250  \n",
       "38              NOVATION COS INC   196.124   59.187  \n",
       "39      GOLDEN GATE PARTNERS INC     0.663   -0.010  \n",
       "40        TRAVEL PLUS LEISURE CO  4534.000  400.000  \n",
       "41  E-HOUSE CHINA HOLDINGS  -ADR   462.439  -56.971  \n",
       "42                  STONEMOR INC   242.606   -3.013  \n",
       "43       VERUS INTERNATIONAL INC     1.172   -0.963  \n",
       "44        WUNONG ASIA PACIFIC CO     0.000   -0.043  \n",
       "45        MARCUS & MILLICHAP INC   385.716   27.934  \n",
       "46                 ZIPREALTY INC    73.820   -9.678  \n",
       "47          RESOURCE AMERICA INC   170.900   25.507  \n",
       "48        BLUEGREEN VACATNS CORP   456.860   39.709  \n",
       "49                   HER IMPORTS     1.495   -0.624  \n",
       "50       COLLIERS INTL GROUP INC  2305.537    5.850  \n",
       "51        JONES LANG LASALLE INC  3932.830  208.050  \n",
       "52   SUNRISE REAL ESTATE GRP INC     8.530   -3.093  \n",
       "53      ANYWHERE REAL ESTATE INC  4672.000 -543.000  \n",
       "54                       ILG INC   473.339   40.702  "
      ]
     },
     "execution_count": 54,
     "metadata": {},
     "output_type": "execute_result"
    }
   ],
   "source": [
    "# Filter data for years.\n",
    "rev_2012 = dff_econ_ann2_real_estate_agts_n_mgr_wo_na.loc[dff_econ_ann2_real_estate_agts_n_mgr_wo_na['year'] == 2012]\n",
    "\n",
    "# Verify filtered data.\n",
    "rev_2012"
   ]
  },
  {
   "cell_type": "code",
   "execution_count": 55,
   "id": "c44a3e42-5a43-41c1-b516-d790fd39e6ae",
   "metadata": {},
   "outputs": [
    {
     "data": {
      "image/png": "[encoded data removed]",
      "text/plain": [
       "<Figure size 640x480 with 1 Axes>"
      ]
     },
     "metadata": {},
     "output_type": "display_data"
    }
   ],
   "source": [
    "# Bar plot representation of 2012 company's revenue.\n",
    "plt.boxplot(rev_2012['revt'])\n",
    "plt.title('Revenue for 2012')\n",
    "plt.show()"
   ]
  },
  {
   "cell_type": "markdown",
   "id": "011d31b5-3ef3-4c17-bfb4-f33c8cc15048",
   "metadata": {},
   "source": [
    "#### <font color=\"green\">Summary of 2012 revenue</font>\n",
    "\n",
    "I use box plot for descriptive data analysis. Here are the values in 2012:\n",
    "1. The minimum is 0\n",
    "2. First Quartile (Q1): about 50\n",
    "3. Median: about 200\n",
    "4. Third Quartile (Q3): about 500\n",
    "5. Maximum: 4672.000"
   ]
  },
  {
   "cell_type": "code",
   "execution_count": 56,
   "id": "fbc41009-efc7-4a81-b733-6da1ea932d56",
   "metadata": {},
   "outputs": [
    {
     "data": {
      "image/png": "[encoded data removed]",
      "text/plain": [
       "<Figure size 640x480 with 1 Axes>"
      ]
     },
     "metadata": {},
     "output_type": "display_data"
    }
   ],
   "source": [
    "# Use box plot to represent 2012 data.\n",
    "rev_2016 = dff_econ_ann2_real_estate_agts_n_mgr_wo_na.loc[dff_econ_ann2_real_estate_agts_n_mgr_wo_na['year'] == 2016]\n",
    "plt.boxplot(rev_2016['revt'])\n",
    "plt.title('Revenue for 2016')\n",
    "plt.show()"
   ]
  },
  {
   "cell_type": "markdown",
   "id": "5462e8ff-0829-4cbf-adf4-7996c8e8d608",
   "metadata": {},
   "source": [
    "#### <font color=\"green\">Summary of 2016 revenue</font>\n",
    "\n",
    "I use box plots for descriptive data analysis. Here are the values in 2016:\n",
    "1. The minimum is about 10\n",
    "2. First Quartile (Q1): about 150\n",
    "3. Median: about 750\n",
    "4. Third Quartile (Q3): about 1850\n",
    "5. Maximum: 6803.800"
   ]
  },
  {
   "cell_type": "code",
   "execution_count": 57,
   "id": "269cfb1f-adf2-4a8f-9489-fb5562627c94",
   "metadata": {},
   "outputs": [
    {
     "data": {
      "image/png": "[encoded data removed]",
      "text/plain": [
       "<Figure size 640x480 with 1 Axes>"
      ]
     },
     "metadata": {},
     "output_type": "display_data"
    }
   ],
   "source": [
    "# Use box plot to represent 2020 data.\n",
    "rev_2020 = dff_econ_ann2_real_estate_agts_n_mgr_wo_na.loc[dff_econ_ann2_real_estate_agts_n_mgr_wo_na['year'] == 2020]\n",
    "plt.boxplot(rev_2020['revt'])\n",
    "plt.title('Revenue for 2020')\n",
    "plt.show()"
   ]
  },
  {
   "cell_type": "markdown",
   "id": "9999a49e-5bd2-4fbb-8ee4-5b95dcfbf15a",
   "metadata": {},
   "source": [
    "#### <font color=\"green\">Summary of 2020 revenue</font>\n",
    "\n",
    "I use box plots for descriptive data analysis. Here are the values in 2020:\n",
    "1. The minimum is about 2.5\n",
    "2. First Quartile (Q1): about 270\n",
    "3. Median: about 750\n",
    "4. Third Quartile (Q3): about 2700\n",
    "5. Maximum: about 16589.9"
   ]
  },
  {
   "cell_type": "markdown",
   "id": "8bc69a75-16a9-4fb0-8300-6a598ee1b1c1",
   "metadata": {},
   "source": [
    "#### <font color=\"blue\">Correllation metrics</font>"
   ]
  },
  {
   "cell_type": "code",
   "execution_count": 71,
   "id": "557ada90-7aff-4442-a41b-7937e16db888",
   "metadata": {},
   "outputs": [
    {
     "data": {
      "text/html": [
       "<div>\n",
       "<style scoped>\n",
       "    .dataframe tbody tr th:only-of-type {\n",
       "        vertical-align: middle;\n",
       "    }\n",
       "\n",
       "    .dataframe tbody tr th {\n",
       "        vertical-align: top;\n",
       "    }\n",
       "\n",
       "    .dataframe thead th {\n",
       "        text-align: right;\n",
       "    }\n",
       "</style>\n",
       "<table border=\"1\" class=\"dataframe\">\n",
       "  <thead>\n",
       "    <tr style=\"text-align: right;\">\n",
       "      <th></th>\n",
       "      <th>year</th>\n",
       "      <th>effective_rate</th>\n",
       "      <th>gvkey</th>\n",
       "      <th>revt</th>\n",
       "      <th>ni</th>\n",
       "    </tr>\n",
       "  </thead>\n",
       "  <tbody>\n",
       "    <tr>\n",
       "      <th>year</th>\n",
       "      <td>1.000000</td>\n",
       "      <td>0.530522</td>\n",
       "      <td>-0.353794</td>\n",
       "      <td>0.303933</td>\n",
       "      <td>-0.040019</td>\n",
       "    </tr>\n",
       "    <tr>\n",
       "      <th>effective_rate</th>\n",
       "      <td>0.530522</td>\n",
       "      <td>1.000000</td>\n",
       "      <td>-0.214936</td>\n",
       "      <td>0.199931</td>\n",
       "      <td>-0.021123</td>\n",
       "    </tr>\n",
       "    <tr>\n",
       "      <th>gvkey</th>\n",
       "      <td>-0.353794</td>\n",
       "      <td>-0.214936</td>\n",
       "      <td>1.000000</td>\n",
       "      <td>0.102121</td>\n",
       "      <td>0.177864</td>\n",
       "    </tr>\n",
       "    <tr>\n",
       "      <th>revt</th>\n",
       "      <td>0.303933</td>\n",
       "      <td>0.199931</td>\n",
       "      <td>0.102121</td>\n",
       "      <td>1.000000</td>\n",
       "      <td>0.339191</td>\n",
       "    </tr>\n",
       "    <tr>\n",
       "      <th>ni</th>\n",
       "      <td>-0.040019</td>\n",
       "      <td>-0.021123</td>\n",
       "      <td>0.177864</td>\n",
       "      <td>0.339191</td>\n",
       "      <td>1.000000</td>\n",
       "    </tr>\n",
       "  </tbody>\n",
       "</table>\n",
       "</div>"
      ],
      "text/plain": [
       "                    year  effective_rate     gvkey      revt        ni\n",
       "year            1.000000        0.530522 -0.353794  0.303933 -0.040019\n",
       "effective_rate  0.530522        1.000000 -0.214936  0.199931 -0.021123\n",
       "gvkey          -0.353794       -0.214936  1.000000  0.102121  0.177864\n",
       "revt            0.303933        0.199931  0.102121  1.000000  0.339191\n",
       "ni             -0.040019       -0.021123  0.177864  0.339191  1.000000"
      ]
     },
     "execution_count": 71,
     "metadata": {},
     "output_type": "execute_result"
    }
   ],
   "source": [
    "# Correlation metrics for dataset.\n",
    "dff_econ = dff_econ_ann2_real_estate_agts_n_mgr_wo_na[['year','effective_rate','gvkey','revt','ni']]\n",
    "dff_econ_cor = dff_econ.corr()\n",
    "dff_econ_cor"
   ]
  },
  {
   "cell_type": "markdown",
   "id": "2c1e1cea-7062-48e7-bbd2-ce06f5ab6ddc",
   "metadata": {},
   "source": [
    "#### <font color=\"green\">Analysis on correlation</font>\n",
    "\n",
    "Based on correlation coefficients, there is not a strong relationship between any of the pairs of variables."
   ]
  },
  {
   "cell_type": "code",
   "execution_count": 75,
   "id": "47b4c5c5-511e-436d-ae3f-65b033f8e37a",
   "metadata": {},
   "outputs": [
    {
     "data": {
      "image/png": "[encoded data removed]",
      "text/plain": [
       "<Figure size 640x480 with 1 Axes>"
      ]
     },
     "metadata": {},
     "output_type": "display_data"
    }
   ],
   "source": [
    "# Confirm with Histogram.\n",
    "plt.hist(dff_econ_ann2_real_estate_agts_n_mgr_wo_na['revt'],bins=20)\n",
    "plt.show()"
   ]
  },
  {
   "cell_type": "markdown",
   "id": "fd525ec8-dd6b-4ac7-8ce3-c5eb3de83bf4",
   "metadata": {},
   "source": [
    "#### <font color=\"green\">Histogram result interpretation</font>\n",
    "\n",
    "Revenue is significantly positively skewed, it is difficult to do regression."
   ]
  },
  {
   "cell_type": "markdown",
   "id": "0b07d635-be47-4a44-8688-c610a9da55a8",
   "metadata": {},
   "source": [
    "### <font color='blue'>Regression<font>"
   ]
  },
  {
   "cell_type": "code",
   "execution_count": 69,
   "id": "cb46b448-7d4b-441a-9689-a3d265be15e4",
   "metadata": {},
   "outputs": [],
   "source": [
    "# import regression statistical models packages.\n",
    "import statsmodels.formula.api as smf\n",
    "import statsmodels.api as sm"
   ]
  },
  {
   "cell_type": "markdown",
   "id": "81e63f6d-01f5-4bac-a420-8b5c2c0a63a0",
   "metadata": {},
   "source": [
    "#### Log transformation\n",
    "\n",
    "Let's do log transformation to see impact on revenue."
   ]
  },
  {
   "cell_type": "code",
   "execution_count": 76,
   "id": "3f5a3867-d83b-4b92-87a2-efec0ce941da",
   "metadata": {},
   "outputs": [
    {
     "data": {
      "text/html": [
       "<div>\n",
       "<style scoped>\n",
       "    .dataframe tbody tr th:only-of-type {\n",
       "        vertical-align: middle;\n",
       "    }\n",
       "\n",
       "    .dataframe tbody tr th {\n",
       "        vertical-align: top;\n",
       "    }\n",
       "\n",
       "    .dataframe thead th {\n",
       "        text-align: right;\n",
       "    }\n",
       "</style>\n",
       "<table border=\"1\" class=\"dataframe\">\n",
       "  <thead>\n",
       "    <tr style=\"text-align: right;\">\n",
       "      <th></th>\n",
       "      <th>year</th>\n",
       "      <th>effective_rate</th>\n",
       "      <th>cik</th>\n",
       "      <th>gvkey</th>\n",
       "      <th>datadate</th>\n",
       "      <th>conm</th>\n",
       "      <th>revt</th>\n",
       "      <th>ni</th>\n",
       "      <th>norm</th>\n",
       "      <th>log_revt</th>\n",
       "    </tr>\n",
       "  </thead>\n",
       "  <tbody>\n",
       "    <tr>\n",
       "      <th>0</th>\n",
       "      <td>2010</td>\n",
       "      <td>0.176247</td>\n",
       "      <td>0001328208</td>\n",
       "      <td>165463</td>\n",
       "      <td>2010-12-31</td>\n",
       "      <td>GOLDEN GATE PARTNERS INC</td>\n",
       "      <td>0.652</td>\n",
       "      <td>-0.705</td>\n",
       "      <td>0.8260</td>\n",
       "      <td>-0.191161</td>\n",
       "    </tr>\n",
       "    <tr>\n",
       "      <th>1</th>\n",
       "      <td>2010</td>\n",
       "      <td>0.176247</td>\n",
       "      <td>0001477324</td>\n",
       "      <td>184116</td>\n",
       "      <td>2010-12-31</td>\n",
       "      <td>IFM INVESTMENTS LTD</td>\n",
       "      <td>80.429</td>\n",
       "      <td>-24.581</td>\n",
       "      <td>40.7145</td>\n",
       "      <td>3.706584</td>\n",
       "    </tr>\n",
       "    <tr>\n",
       "      <th>2</th>\n",
       "      <td>2010</td>\n",
       "      <td>0.176247</td>\n",
       "      <td>0001497862</td>\n",
       "      <td>185854</td>\n",
       "      <td>2010-12-31</td>\n",
       "      <td>SYSWIN INC  -ADR</td>\n",
       "      <td>95.306</td>\n",
       "      <td>28.725</td>\n",
       "      <td>48.1530</td>\n",
       "      <td>3.874383</td>\n",
       "    </tr>\n",
       "    <tr>\n",
       "      <th>3</th>\n",
       "      <td>2010</td>\n",
       "      <td>0.176247</td>\n",
       "      <td>0001408100</td>\n",
       "      <td>025632</td>\n",
       "      <td>2010-12-31</td>\n",
       "      <td>KENNEDY-WILSON HOLDINGS INC</td>\n",
       "      <td>50.536</td>\n",
       "      <td>3.506</td>\n",
       "      <td>25.7680</td>\n",
       "      <td>3.249133</td>\n",
       "    </tr>\n",
       "    <tr>\n",
       "      <th>4</th>\n",
       "      <td>2010</td>\n",
       "      <td>0.176247</td>\n",
       "      <td>0001033032</td>\n",
       "      <td>064867</td>\n",
       "      <td>2010-12-31</td>\n",
       "      <td>SILVERLEAF RESORTS INC</td>\n",
       "      <td>226.011</td>\n",
       "      <td>5.775</td>\n",
       "      <td>113.5055</td>\n",
       "      <td>4.731851</td>\n",
       "    </tr>\n",
       "  </tbody>\n",
       "</table>\n",
       "</div>"
      ],
      "text/plain": [
       "   year  effective_rate         cik   gvkey   datadate  \\\n",
       "0  2010        0.176247  0001328208  165463 2010-12-31   \n",
       "1  2010        0.176247  0001477324  184116 2010-12-31   \n",
       "2  2010        0.176247  0001497862  185854 2010-12-31   \n",
       "3  2010        0.176247  0001408100  025632 2010-12-31   \n",
       "4  2010        0.176247  0001033032  064867 2010-12-31   \n",
       "\n",
       "                          conm     revt      ni      norm  log_revt  \n",
       "0     GOLDEN GATE PARTNERS INC    0.652  -0.705    0.8260 -0.191161  \n",
       "1          IFM INVESTMENTS LTD   80.429 -24.581   40.7145  3.706584  \n",
       "2             SYSWIN INC  -ADR   95.306  28.725   48.1530  3.874383  \n",
       "3  KENNEDY-WILSON HOLDINGS INC   50.536   3.506   25.7680  3.249133  \n",
       "4       SILVERLEAF RESORTS INC  226.011   5.775  113.5055  4.731851  "
      ]
     },
     "execution_count": 76,
     "metadata": {},
     "output_type": "execute_result"
    }
   ],
   "source": [
    "# Log transformation on revenue.\n",
    "dff_econ_ann2_real_estate_agts_n_mgr_wo_na['norm'] = (1+dff_econ_ann2_real_estate_agts_n_mgr_wo_na.revt)/2\n",
    "dff_econ_ann2_real_estate_agts_n_mgr_wo_na['log_revt'] = np.log(dff_econ_ann2_real_estate_agts_n_mgr_wo_na['norm'])\n",
    "dff_econ_ann2_real_estate_agts_n_mgr_wo_na.head()"
   ]
  },
  {
   "cell_type": "markdown",
   "id": "cf050fcf-d572-435c-a06e-b6b465850033",
   "metadata": {},
   "source": [
    "#### <font color='blue'>Control variables</font>"
   ]
  },
  {
   "cell_type": "code",
   "execution_count": 92,
   "id": "a82511b4-8527-4f54-b7fd-bfa3b035248d",
   "metadata": {},
   "outputs": [
    {
     "data": {
      "image/png": "[encoded data removed]",
      "text/plain": [
       "<Figure size 640x480 with 1 Axes>"
      ]
     },
     "metadata": {},
     "output_type": "display_data"
    }
   ],
   "source": [
    "# Confirm with Histogram on log_revt column.\n",
    "plt.hist(dff_econ_ann2_real_estate_agts_n_mgr_wo_na['log_revt'],bins=20)\n",
    "plt.show()"
   ]
  },
  {
   "cell_type": "markdown",
   "id": "8fd56b7b-98e1-4f3b-82f4-f89da7200eb1",
   "metadata": {},
   "source": [
    "#### <font color=\"green\">Histogram result interpretation after log_revt</font>\n",
    "\n",
    "The log value of revenue is better skewed, it is in better shape to do regression."
   ]
  },
  {
   "cell_type": "code",
   "execution_count": 93,
   "id": "9704e12b-2aa7-4432-bb6e-179bc04fc78e",
   "metadata": {},
   "outputs": [
    {
     "name": "stdout",
     "output_type": "stream",
     "text": [
      "                            OLS Regression Results                            \n",
      "==============================================================================\n",
      "Dep. Variable:               log_revt   R-squared:                       0.100\n",
      "Model:                            OLS   Adj. R-squared:                  0.093\n",
      "Method:                 Least Squares   F-statistic:                     13.64\n",
      "Date:                Wed, 22 Nov 2023   Prob (F-statistic):           2.42e-06\n",
      "Time:                        19:37:28   Log-Likelihood:                -550.06\n",
      "No. Observations:                 248   AIC:                             1106.\n",
      "Df Residuals:                     245   BIC:                             1117.\n",
      "Df Model:                           2                                         \n",
      "Covariance Type:            nonrobust                                         \n",
      "==================================================================================\n",
      "                     coef    std err          t      P>|t|      [0.025      0.975]\n",
      "----------------------------------------------------------------------------------\n",
      "Intercept       -324.8966     86.004     -3.778      0.000    -494.298    -155.495\n",
      "effective_rate     0.2174      0.225      0.968      0.334      -0.225       0.660\n",
      "year               0.1638      0.043      3.837      0.000       0.080       0.248\n",
      "==============================================================================\n",
      "Omnibus:                       27.214   Durbin-Watson:                   2.176\n",
      "Prob(Omnibus):                  0.000   Jarque-Bera (JB):               32.989\n",
      "Skew:                          -0.880   Prob(JB):                     6.86e-08\n",
      "Kurtosis:                       3.303   Cond. No.                     1.22e+06\n",
      "==============================================================================\n",
      "\n",
      "Notes:\n",
      "[1] Standard Errors assume that the covariance matrix of the errors is correctly specified.\n",
      "[2] The condition number is large, 1.22e+06. This might indicate that there are\n",
      "strong multicollinearity or other numerical problems.\n"
     ]
    }
   ],
   "source": [
    "# Regression\n",
    "model = smf.ols(formula='log_revt ~ effective_rate+year', data=dff_econ_ann2_real_estate_agts_n_mgr_wo_na)\n",
    "results = model.fit()\n",
    "print(results.summary())"
   ]
  },
  {
   "cell_type": "markdown",
   "id": "8b9a7e57-d9cb-4c86-ac52-46ad492c48e9",
   "metadata": {},
   "source": [
    "### <font color='green'>Result interpretation</font>\n",
    "\n",
    "Prob (F-statistic) = 2.42e-06 = 0.00000242, is less than 0.1, this regression analysis can be considered.\n",
    "\n",
    "R-squared is 10%; this model explains only 10% of the variance of the dependent variable (revt).\n",
    "\n",
    "The coefficient on year is 0.1638, which means the year is positively associated with retailers' revenues. This coefficient is statistically significant at p<0.01 level."
   ]
  },
  {
   "cell_type": "code",
   "execution_count": 95,
   "id": "949eee4e-cafc-4bda-bd3d-ab628128b8ea",
   "metadata": {},
   "outputs": [
    {
     "name": "stdout",
     "output_type": "stream",
     "text": [
      "<class 'pandas.core.frame.DataFrame'>\n",
      "RangeIndex: 248 entries, 0 to 247\n",
      "Data columns (total 8 columns):\n",
      " #   Column                Non-Null Count  Dtype         \n",
      "---  ------                --------------  -----         \n",
      " 0   year                  248 non-null    int32         \n",
      " 1   Thousands of Persons  248 non-null    float64       \n",
      " 2   cik                   248 non-null    object        \n",
      " 3   gvkey                 248 non-null    object        \n",
      " 4   datadate              248 non-null    datetime64[ns]\n",
      " 5   conm                  248 non-null    object        \n",
      " 6   revt                  248 non-null    float64       \n",
      " 7   ni                    248 non-null    float64       \n",
      "dtypes: datetime64[ns](1), float64(3), int32(1), object(3)\n",
      "memory usage: 14.7+ KB\n"
     ]
    }
   ],
   "source": [
    "econ_r.info()"
   ]
  },
  {
   "cell_type": "code",
   "execution_count": 96,
   "id": "f90a4e23-6d89-4cee-ba9f-4fd7bff9fa70",
   "metadata": {},
   "outputs": [
    {
     "name": "stdout",
     "output_type": "stream",
     "text": [
      "<class 'pandas.core.frame.DataFrame'>\n",
      "RangeIndex: 248 entries, 0 to 247\n",
      "Data columns (total 11 columns):\n",
      " #   Column          Non-Null Count  Dtype         \n",
      "---  ------          --------------  -----         \n",
      " 0   year            248 non-null    int32         \n",
      " 1   effective_rate  248 non-null    float64       \n",
      " 2   cik             248 non-null    object        \n",
      " 3   gvkey           248 non-null    object        \n",
      " 4   datadate        248 non-null    datetime64[ns]\n",
      " 5   conm            248 non-null    object        \n",
      " 6   revt            248 non-null    float64       \n",
      " 7   ni              248 non-null    float64       \n",
      " 8   house income    248 non-null    float64       \n",
      " 9   index           248 non-null    int64         \n",
      " 10  month           248 non-null    int32         \n",
      "dtypes: datetime64[ns](1), float64(4), int32(2), int64(1), object(3)\n",
      "memory usage: 19.5+ KB\n"
     ]
    }
   ],
   "source": [
    "# Combined dff and labor force economic data.\n",
    "dff_labor_force_econ.info()"
   ]
  },
  {
   "cell_type": "markdown",
   "id": "c58b9a72-3322-44a3-aac1-b953d0748e57",
   "metadata": {},
   "source": [
    "### <font color=\"red\">Analysis </font>\n",
    "\n",
    "We are performing graph analysis on one of the datasets. I am going to do an analysis on `dff_labor_force_econ` dataset, which is merged dataset.\n",
    "\n",
    "I am going to present the impact on revenue during the pandemic.\n",
    "1. 2019 - Prepandemic year\n",
    "2. 2020 - Pandemic year"
   ]
  },
  {
   "cell_type": "code",
   "execution_count": 97,
   "id": "0cfb09d2-e339-462b-b743-0b7135dde85f",
   "metadata": {},
   "outputs": [
    {
     "data": {
      "text/html": [
       "<div>\n",
       "<style scoped>\n",
       "    .dataframe tbody tr th:only-of-type {\n",
       "        vertical-align: middle;\n",
       "    }\n",
       "\n",
       "    .dataframe tbody tr th {\n",
       "        vertical-align: top;\n",
       "    }\n",
       "\n",
       "    .dataframe thead th {\n",
       "        text-align: right;\n",
       "    }\n",
       "</style>\n",
       "<table border=\"1\" class=\"dataframe\">\n",
       "  <thead>\n",
       "    <tr style=\"text-align: right;\">\n",
       "      <th></th>\n",
       "      <th>year</th>\n",
       "      <th>effective_rate</th>\n",
       "      <th>cik</th>\n",
       "      <th>gvkey</th>\n",
       "      <th>datadate</th>\n",
       "      <th>conm</th>\n",
       "      <th>revt</th>\n",
       "      <th>ni</th>\n",
       "      <th>house income</th>\n",
       "      <th>index</th>\n",
       "      <th>month</th>\n",
       "    </tr>\n",
       "  </thead>\n",
       "  <tbody>\n",
       "    <tr>\n",
       "      <th>151</th>\n",
       "      <td>2019</td>\n",
       "      <td>2.15726</td>\n",
       "      <td>0001382821</td>\n",
       "      <td>032102</td>\n",
       "      <td>2019-12-31</td>\n",
       "      <td>REDFIN CORP</td>\n",
       "      <td>779.796</td>\n",
       "      <td>-80.805</td>\n",
       "      <td>1435.333333</td>\n",
       "      <td>86</td>\n",
       "      <td>12</td>\n",
       "    </tr>\n",
       "    <tr>\n",
       "      <th>152</th>\n",
       "      <td>2019</td>\n",
       "      <td>2.15726</td>\n",
       "      <td>0001628369</td>\n",
       "      <td>033809</td>\n",
       "      <td>2019-12-31</td>\n",
       "      <td>CUSHMAN &amp; WAKEFIELD</td>\n",
       "      <td>8751.000</td>\n",
       "      <td>0.200</td>\n",
       "      <td>1435.333333</td>\n",
       "      <td>93</td>\n",
       "      <td>12</td>\n",
       "    </tr>\n",
       "    <tr>\n",
       "      <th>153</th>\n",
       "      <td>2019</td>\n",
       "      <td>2.15726</td>\n",
       "      <td>0001809587</td>\n",
       "      <td>036798</td>\n",
       "      <td>2019-12-31</td>\n",
       "      <td>KE HOLDINGS INC</td>\n",
       "      <td>6608.486</td>\n",
       "      <td>-313.593</td>\n",
       "      <td>1435.333333</td>\n",
       "      <td>98</td>\n",
       "      <td>12</td>\n",
       "    </tr>\n",
       "    <tr>\n",
       "      <th>154</th>\n",
       "      <td>2019</td>\n",
       "      <td>2.15726</td>\n",
       "      <td>0001581091</td>\n",
       "      <td>018578</td>\n",
       "      <td>2019-12-31</td>\n",
       "      <td>RE/MAX HOLDINGS INC</td>\n",
       "      <td>282.293</td>\n",
       "      <td>25.040</td>\n",
       "      <td>1435.333333</td>\n",
       "      <td>74</td>\n",
       "      <td>12</td>\n",
       "    </tr>\n",
       "    <tr>\n",
       "      <th>155</th>\n",
       "      <td>2019</td>\n",
       "      <td>2.15726</td>\n",
       "      <td>0001637810</td>\n",
       "      <td>024116</td>\n",
       "      <td>2019-12-31</td>\n",
       "      <td>FIRSTSERVICE CORP</td>\n",
       "      <td>2407.410</td>\n",
       "      <td>-251.610</td>\n",
       "      <td>1435.333333</td>\n",
       "      <td>133</td>\n",
       "      <td>12</td>\n",
       "    </tr>\n",
       "    <tr>\n",
       "      <th>156</th>\n",
       "      <td>2019</td>\n",
       "      <td>2.15726</td>\n",
       "      <td>0001741534</td>\n",
       "      <td>034003</td>\n",
       "      <td>2019-12-31</td>\n",
       "      <td>MDJM LTD</td>\n",
       "      <td>5.680</td>\n",
       "      <td>0.453</td>\n",
       "      <td>1435.333333</td>\n",
       "      <td>22</td>\n",
       "      <td>12</td>\n",
       "    </tr>\n",
       "    <tr>\n",
       "      <th>157</th>\n",
       "      <td>2019</td>\n",
       "      <td>2.15726</td>\n",
       "      <td>0001878897</td>\n",
       "      <td>040417</td>\n",
       "      <td>2019-12-31</td>\n",
       "      <td>DOUGLAS ELLIMAN INC</td>\n",
       "      <td>784.108</td>\n",
       "      <td>8.459</td>\n",
       "      <td>1435.333333</td>\n",
       "      <td>38</td>\n",
       "      <td>12</td>\n",
       "    </tr>\n",
       "    <tr>\n",
       "      <th>158</th>\n",
       "      <td>2019</td>\n",
       "      <td>2.15726</td>\n",
       "      <td>0001361658</td>\n",
       "      <td>174729</td>\n",
       "      <td>2019-12-31</td>\n",
       "      <td>TRAVEL PLUS LEISURE CO</td>\n",
       "      <td>4043.000</td>\n",
       "      <td>507.000</td>\n",
       "      <td>1435.333333</td>\n",
       "      <td>52</td>\n",
       "      <td>12</td>\n",
       "    </tr>\n",
       "    <tr>\n",
       "      <th>159</th>\n",
       "      <td>2019</td>\n",
       "      <td>2.15726</td>\n",
       "      <td>0001690680</td>\n",
       "      <td>032748</td>\n",
       "      <td>2019-12-31</td>\n",
       "      <td>NEWMARK GROUP INC</td>\n",
       "      <td>2218.132</td>\n",
       "      <td>117.305</td>\n",
       "      <td>1435.333333</td>\n",
       "      <td>15</td>\n",
       "      <td>12</td>\n",
       "    </tr>\n",
       "    <tr>\n",
       "      <th>160</th>\n",
       "      <td>2019</td>\n",
       "      <td>2.15726</td>\n",
       "      <td>0001753886</td>\n",
       "      <td>160207</td>\n",
       "      <td>2019-12-31</td>\n",
       "      <td>STONEMOR INC</td>\n",
       "      <td>289.522</td>\n",
       "      <td>-151.942</td>\n",
       "      <td>1435.333333</td>\n",
       "      <td>243</td>\n",
       "      <td>12</td>\n",
       "    </tr>\n",
       "    <tr>\n",
       "      <th>161</th>\n",
       "      <td>2019</td>\n",
       "      <td>2.15726</td>\n",
       "      <td>0000059440</td>\n",
       "      <td>013963</td>\n",
       "      <td>2019-12-31</td>\n",
       "      <td>VECTOR GROUP LTD</td>\n",
       "      <td>1452.455</td>\n",
       "      <td>100.974</td>\n",
       "      <td>1435.333333</td>\n",
       "      <td>168</td>\n",
       "      <td>12</td>\n",
       "    </tr>\n",
       "    <tr>\n",
       "      <th>162</th>\n",
       "      <td>2019</td>\n",
       "      <td>2.15726</td>\n",
       "      <td>0001578732</td>\n",
       "      <td>019000</td>\n",
       "      <td>2019-12-31</td>\n",
       "      <td>MARCUS &amp; MILLICHAP INC</td>\n",
       "      <td>806.428</td>\n",
       "      <td>76.930</td>\n",
       "      <td>1435.333333</td>\n",
       "      <td>123</td>\n",
       "      <td>12</td>\n",
       "    </tr>\n",
       "    <tr>\n",
       "      <th>163</th>\n",
       "      <td>2019</td>\n",
       "      <td>2.15726</td>\n",
       "      <td>0001596856</td>\n",
       "      <td>020009</td>\n",
       "      <td>2019-12-31</td>\n",
       "      <td>LEJU HOLDINGS LTD  -ADR</td>\n",
       "      <td>692.605</td>\n",
       "      <td>11.522</td>\n",
       "      <td>1435.333333</td>\n",
       "      <td>215</td>\n",
       "      <td>12</td>\n",
       "    </tr>\n",
       "    <tr>\n",
       "      <th>164</th>\n",
       "      <td>2019</td>\n",
       "      <td>2.15726</td>\n",
       "      <td>0001753162</td>\n",
       "      <td>036084</td>\n",
       "      <td>2019-12-31</td>\n",
       "      <td>FATHOM HOLDINGS INC</td>\n",
       "      <td>109.622</td>\n",
       "      <td>-4.092</td>\n",
       "      <td>1435.333333</td>\n",
       "      <td>27</td>\n",
       "      <td>12</td>\n",
       "    </tr>\n",
       "    <tr>\n",
       "      <th>165</th>\n",
       "      <td>2019</td>\n",
       "      <td>2.15726</td>\n",
       "      <td>0001563190</td>\n",
       "      <td>038488</td>\n",
       "      <td>2019-12-31</td>\n",
       "      <td>COMPASS INC</td>\n",
       "      <td>2386.000</td>\n",
       "      <td>-388.000</td>\n",
       "      <td>1435.333333</td>\n",
       "      <td>31</td>\n",
       "      <td>12</td>\n",
       "    </tr>\n",
       "    <tr>\n",
       "      <th>166</th>\n",
       "      <td>2019</td>\n",
       "      <td>2.15726</td>\n",
       "      <td>0001495932</td>\n",
       "      <td>018875</td>\n",
       "      <td>2019-12-31</td>\n",
       "      <td>EXP WORLD HOLDINGS INC</td>\n",
       "      <td>979.937</td>\n",
       "      <td>-9.528</td>\n",
       "      <td>1435.333333</td>\n",
       "      <td>7</td>\n",
       "      <td>12</td>\n",
       "    </tr>\n",
       "    <tr>\n",
       "      <th>167</th>\n",
       "      <td>2019</td>\n",
       "      <td>2.15726</td>\n",
       "      <td>0000913353</td>\n",
       "      <td>028485</td>\n",
       "      <td>2019-12-31</td>\n",
       "      <td>COLLIERS INTL GROUP INC</td>\n",
       "      <td>3045.811</td>\n",
       "      <td>102.903</td>\n",
       "      <td>1435.333333</td>\n",
       "      <td>181</td>\n",
       "      <td>12</td>\n",
       "    </tr>\n",
       "    <tr>\n",
       "      <th>168</th>\n",
       "      <td>2019</td>\n",
       "      <td>2.15726</td>\n",
       "      <td>0001037976</td>\n",
       "      <td>065108</td>\n",
       "      <td>2019-12-31</td>\n",
       "      <td>JONES LANG LASALLE INC</td>\n",
       "      <td>17983.200</td>\n",
       "      <td>535.300</td>\n",
       "      <td>1435.333333</td>\n",
       "      <td>199</td>\n",
       "      <td>12</td>\n",
       "    </tr>\n",
       "    <tr>\n",
       "      <th>169</th>\n",
       "      <td>2019</td>\n",
       "      <td>2.15726</td>\n",
       "      <td>0001398987</td>\n",
       "      <td>174022</td>\n",
       "      <td>2019-12-31</td>\n",
       "      <td>ANYWHERE REAL ESTATE INC</td>\n",
       "      <td>5598.000</td>\n",
       "      <td>-188.000</td>\n",
       "      <td>1435.333333</td>\n",
       "      <td>152</td>\n",
       "      <td>12</td>\n",
       "    </tr>\n",
       "  </tbody>\n",
       "</table>\n",
       "</div>"
      ],
      "text/plain": [
       "     year  effective_rate         cik   gvkey   datadate  \\\n",
       "151  2019         2.15726  0001382821  032102 2019-12-31   \n",
       "152  2019         2.15726  0001628369  033809 2019-12-31   \n",
       "153  2019         2.15726  0001809587  036798 2019-12-31   \n",
       "154  2019         2.15726  0001581091  018578 2019-12-31   \n",
       "155  2019         2.15726  0001637810  024116 2019-12-31   \n",
       "156  2019         2.15726  0001741534  034003 2019-12-31   \n",
       "157  2019         2.15726  0001878897  040417 2019-12-31   \n",
       "158  2019         2.15726  0001361658  174729 2019-12-31   \n",
       "159  2019         2.15726  0001690680  032748 2019-12-31   \n",
       "160  2019         2.15726  0001753886  160207 2019-12-31   \n",
       "161  2019         2.15726  0000059440  013963 2019-12-31   \n",
       "162  2019         2.15726  0001578732  019000 2019-12-31   \n",
       "163  2019         2.15726  0001596856  020009 2019-12-31   \n",
       "164  2019         2.15726  0001753162  036084 2019-12-31   \n",
       "165  2019         2.15726  0001563190  038488 2019-12-31   \n",
       "166  2019         2.15726  0001495932  018875 2019-12-31   \n",
       "167  2019         2.15726  0000913353  028485 2019-12-31   \n",
       "168  2019         2.15726  0001037976  065108 2019-12-31   \n",
       "169  2019         2.15726  0001398987  174022 2019-12-31   \n",
       "\n",
       "                         conm       revt       ni  house income  index  month  \n",
       "151               REDFIN CORP    779.796  -80.805   1435.333333     86     12  \n",
       "152       CUSHMAN & WAKEFIELD   8751.000    0.200   1435.333333     93     12  \n",
       "153           KE HOLDINGS INC   6608.486 -313.593   1435.333333     98     12  \n",
       "154       RE/MAX HOLDINGS INC    282.293   25.040   1435.333333     74     12  \n",
       "155         FIRSTSERVICE CORP   2407.410 -251.610   1435.333333    133     12  \n",
       "156                  MDJM LTD      5.680    0.453   1435.333333     22     12  \n",
       "157       DOUGLAS ELLIMAN INC    784.108    8.459   1435.333333     38     12  \n",
       "158    TRAVEL PLUS LEISURE CO   4043.000  507.000   1435.333333     52     12  \n",
       "159         NEWMARK GROUP INC   2218.132  117.305   1435.333333     15     12  \n",
       "160              STONEMOR INC    289.522 -151.942   1435.333333    243     12  \n",
       "161          VECTOR GROUP LTD   1452.455  100.974   1435.333333    168     12  \n",
       "162    MARCUS & MILLICHAP INC    806.428   76.930   1435.333333    123     12  \n",
       "163   LEJU HOLDINGS LTD  -ADR    692.605   11.522   1435.333333    215     12  \n",
       "164       FATHOM HOLDINGS INC    109.622   -4.092   1435.333333     27     12  \n",
       "165               COMPASS INC   2386.000 -388.000   1435.333333     31     12  \n",
       "166    EXP WORLD HOLDINGS INC    979.937   -9.528   1435.333333      7     12  \n",
       "167   COLLIERS INTL GROUP INC   3045.811  102.903   1435.333333    181     12  \n",
       "168    JONES LANG LASALLE INC  17983.200  535.300   1435.333333    199     12  \n",
       "169  ANYWHERE REAL ESTATE INC   5598.000 -188.000   1435.333333    152     12  "
      ]
     },
     "execution_count": 97,
     "metadata": {},
     "output_type": "execute_result"
    }
   ],
   "source": [
    "# Filter data for 2019.\n",
    "rev_2019 = dff_labor_force_econ.loc[dff_labor_force_econ['year'] == 2019]\n",
    "\n",
    "# Verify filtered data.\n",
    "rev_2019"
   ]
  },
  {
   "cell_type": "code",
   "execution_count": 98,
   "id": "b52f4f7f-4f4d-4243-985a-bec80c7db541",
   "metadata": {},
   "outputs": [
    {
     "name": "stdout",
     "output_type": "stream",
     "text": [
      "                            OLS Regression Results                            \n",
      "==============================================================================\n",
      "Dep. Variable:                   revt   R-squared:                       1.000\n",
      "Model:                            OLS   Adj. R-squared:                    nan\n",
      "Method:                 Least Squares   F-statistic:                       nan\n",
      "Date:                Tue, 28 Nov 2023   Prob (F-statistic):                nan\n",
      "Time:                        20:18:59   Log-Likelihood:                 471.30\n",
      "No. Observations:                  19   AIC:                            -904.6\n",
      "Df Residuals:                       0   BIC:                            -886.7\n",
      "Df Model:                          18                                         \n",
      "Covariance Type:            nonrobust                                         \n",
      "===================================================================================\n",
      "                      coef    std err          t      P>|t|      [0.025      0.975]\n",
      "-----------------------------------------------------------------------------------\n",
      "Intercept        1452.4550        inf          0        nan         nan         nan\n",
      "gvkey[T.018578] -1170.1620        inf         -0        nan         nan         nan\n",
      "gvkey[T.018875]  -472.5180        inf         -0        nan         nan         nan\n",
      "gvkey[T.019000]  -646.0270        inf         -0        nan         nan         nan\n",
      "gvkey[T.020009]  -759.8500        inf         -0        nan         nan         nan\n",
      "gvkey[T.024116]   954.9550        inf          0        nan         nan         nan\n",
      "gvkey[T.028485]  1593.3560        inf          0        nan         nan         nan\n",
      "gvkey[T.032102]  -672.6590        inf         -0        nan         nan         nan\n",
      "gvkey[T.032748]   765.6770        inf          0        nan         nan         nan\n",
      "gvkey[T.033809]  7298.5450        inf          0        nan         nan         nan\n",
      "gvkey[T.034003] -1446.7750        inf         -0        nan         nan         nan\n",
      "gvkey[T.036084] -1342.8330        inf         -0        nan         nan         nan\n",
      "gvkey[T.036798]  5156.0310        inf          0        nan         nan         nan\n",
      "gvkey[T.038488]   933.5450        inf          0        nan         nan         nan\n",
      "gvkey[T.040417]  -668.3470        inf         -0        nan         nan         nan\n",
      "gvkey[T.065108]  1.653e+04        inf          0        nan         nan         nan\n",
      "gvkey[T.160207] -1162.9330        inf         -0        nan         nan         nan\n",
      "gvkey[T.174022]  4145.5450        inf          0        nan         nan         nan\n",
      "gvkey[T.174729]  2590.5450        inf          0        nan         nan         nan\n",
      "==============================================================================\n",
      "Omnibus:                        8.423   Durbin-Watson:                   1.184\n",
      "Prob(Omnibus):                  0.015   Jarque-Bera (JB):                5.588\n",
      "Skew:                          -1.115   Prob(JB):                       0.0612\n",
      "Kurtosis:                       4.445   Cond. No.                         19.9\n",
      "==============================================================================\n",
      "\n",
      "Notes:\n",
      "[1] Standard Errors assume that the covariance matrix of the errors is correctly specified.\n"
     ]
    },
    {
     "name": "stderr",
     "output_type": "stream",
     "text": [
      "/Library/Frameworks/Python.framework/Versions/3.11/lib/python3.11/site-packages/scipy/stats/_stats_py.py:1806: UserWarning: kurtosistest only valid for n>=20 ... continuing anyway, n=19\n",
      "  warnings.warn(\"kurtosistest only valid for n>=20 ... continuing \"\n",
      "/Library/Frameworks/Python.framework/Versions/3.11/lib/python3.11/site-packages/statsmodels/regression/linear_model.py:1794: RuntimeWarning: divide by zero encountered in divide\n",
      "  return 1 - (np.divide(self.nobs - self.k_constant, self.df_resid)\n",
      "/Library/Frameworks/Python.framework/Versions/3.11/lib/python3.11/site-packages/statsmodels/regression/linear_model.py:1794: RuntimeWarning: invalid value encountered in scalar multiply\n",
      "  return 1 - (np.divide(self.nobs - self.k_constant, self.df_resid)\n",
      "/Library/Frameworks/Python.framework/Versions/3.11/lib/python3.11/site-packages/statsmodels/regression/linear_model.py:1716: RuntimeWarning: divide by zero encountered in scalar divide\n",
      "  return np.dot(wresid, wresid) / self.df_resid\n"
     ]
    }
   ],
   "source": [
    "# Regression\n",
    "model = smf.ols(formula='revt ~ gvkey', data=rev_2019)\n",
    "results = model.fit()\n",
    "print(results.summary())"
   ]
  },
  {
   "cell_type": "markdown",
   "id": "d4b5ce22-685f-4863-b287-4b55cfda037c",
   "metadata": {},
   "source": [
    "#### <font color=\"green\">Analysis</font>\n",
    "\n",
    "We cannot use this for regression analysis as the F-stat is NaN."
   ]
  },
  {
   "cell_type": "markdown",
   "id": "df0cf80c-af00-4f9d-a70f-d2c4b771f050",
   "metadata": {},
   "source": [
    "***"
   ]
  },
  {
   "cell_type": "code",
   "execution_count": 99,
   "id": "beb3a44f-2121-43be-b2a2-12b6387a8a96",
   "metadata": {},
   "outputs": [
    {
     "name": "stdout",
     "output_type": "stream",
     "text": [
      "                            OLS Regression Results                            \n",
      "==============================================================================\n",
      "Dep. Variable:                   revt   R-squared:                       0.169\n",
      "Model:                            OLS   Adj. R-squared:                  0.120\n",
      "Method:                 Least Squares   F-statistic:                     3.446\n",
      "Date:                Tue, 28 Nov 2023   Prob (F-statistic):             0.0808\n",
      "Time:                        20:19:34   Log-Likelihood:                -183.80\n",
      "No. Observations:                  19   AIC:                             371.6\n",
      "Df Residuals:                      17   BIC:                             373.5\n",
      "Df Model:                           1                                         \n",
      "Covariance Type:            nonrobust                                         \n",
      "==============================================================================\n",
      "                 coef    std err          t      P>|t|      [0.025      0.975]\n",
      "------------------------------------------------------------------------------\n",
      "Intercept   3077.1158    933.038      3.298      0.004    1108.577    5045.655\n",
      "ni             7.6971      4.146      1.856      0.081      -1.051      16.445\n",
      "==============================================================================\n",
      "Omnibus:                        9.748   Durbin-Watson:                   1.434\n",
      "Prob(Omnibus):                  0.008   Jarque-Bera (JB):                7.125\n",
      "Skew:                           1.414   Prob(JB):                       0.0284\n",
      "Kurtosis:                       3.999   Cond. No.                         225.\n",
      "==============================================================================\n",
      "\n",
      "Notes:\n",
      "[1] Standard Errors assume that the covariance matrix of the errors is correctly specified.\n"
     ]
    },
    {
     "name": "stderr",
     "output_type": "stream",
     "text": [
      "/Library/Frameworks/Python.framework/Versions/3.11/lib/python3.11/site-packages/scipy/stats/_stats_py.py:1806: UserWarning: kurtosistest only valid for n>=20 ... continuing anyway, n=19\n",
      "  warnings.warn(\"kurtosistest only valid for n>=20 ... continuing \"\n"
     ]
    }
   ],
   "source": [
    "model = smf.ols(formula='revt ~ ni', data=rev_2019)\n",
    "results = model.fit()\n",
    "print(results.summary())"
   ]
  },
  {
   "cell_type": "markdown",
   "id": "5b0457d0-0c02-4208-8dcf-272741b4d9d8",
   "metadata": {},
   "source": [
    "#### <font color=\"green\">Analysis</font>\n",
    "\n",
    "Prob (F-statistic) is less than 0.1, this regression analysis can be considered.\n",
    "\n",
    "R-squared is 16.9% - i.e. 16.9% of revenue is explained by this model.\n",
    "\n",
    "The coefficient on ni is 7.6971, which means net income is positively associated with retailers' revenues. This coefficient is statistically significant at p>0.1 level."
   ]
  },
  {
   "cell_type": "markdown",
   "id": "84700593-75c6-46eb-91c3-18bb710f65a0",
   "metadata": {},
   "source": [
    "***"
   ]
  },
  {
   "cell_type": "code",
   "execution_count": 100,
   "id": "d2d1380b-0299-4339-8b28-b239cccd6baf",
   "metadata": {},
   "outputs": [
    {
     "name": "stdout",
     "output_type": "stream",
     "text": [
      "                            OLS Regression Results                            \n",
      "==============================================================================\n",
      "Dep. Variable:                   revt   R-squared:                       0.235\n",
      "Model:                            OLS   Adj. R-squared:                  0.139\n",
      "Method:                 Least Squares   F-statistic:                     2.453\n",
      "Date:                Tue, 28 Nov 2023   Prob (F-statistic):              0.118\n",
      "Time:                        20:33:25   Log-Likelihood:                -183.01\n",
      "No. Observations:                  19   AIC:                             372.0\n",
      "Df Residuals:                      16   BIC:                             374.9\n",
      "Df Model:                           2                                         \n",
      "Covariance Type:            nonrobust                                         \n",
      "==============================================================================\n",
      "                 coef    std err          t      P>|t|      [0.025      0.975]\n",
      "------------------------------------------------------------------------------\n",
      "Intercept   1517.4525   1615.610      0.939      0.362   -1907.488    4942.393\n",
      "ni             7.2968      4.114      1.773      0.095      -1.425      16.019\n",
      "index         15.1625     12.893      1.176      0.257     -12.169      42.494\n",
      "==============================================================================\n",
      "Omnibus:                        6.134   Durbin-Watson:                   1.461\n",
      "Prob(Omnibus):                  0.047   Jarque-Bera (JB):                4.216\n",
      "Skew:                           1.143   Prob(JB):                        0.121\n",
      "Kurtosis:                       3.319   Cond. No.                         395.\n",
      "==============================================================================\n",
      "\n",
      "Notes:\n",
      "[1] Standard Errors assume that the covariance matrix of the errors is correctly specified.\n"
     ]
    },
    {
     "name": "stderr",
     "output_type": "stream",
     "text": [
      "/Library/Frameworks/Python.framework/Versions/3.11/lib/python3.11/site-packages/scipy/stats/_stats_py.py:1806: UserWarning: kurtosistest only valid for n>=20 ... continuing anyway, n=19\n",
      "  warnings.warn(\"kurtosistest only valid for n>=20 ... continuing \"\n"
     ]
    }
   ],
   "source": [
    "model = smf.ols(formula='revt ~ ni+index', data=rev_2019)\n",
    "results = model.fit()\n",
    "print(results.summary())"
   ]
  },
  {
   "cell_type": "markdown",
   "id": "11e9cf10-76ec-4f22-b73f-fc1978955223",
   "metadata": {},
   "source": [
    "#### <font color=\"green\">Analysis</font>\n",
    "\n",
    "Prob (F-statistic) is greater than 0.1, this regression analysis cannot be considered. Even though 23.5% of revenue is explained by this model."
   ]
  },
  {
   "cell_type": "markdown",
   "id": "992ef1b8-daa2-4e59-8e72-b30118ca47db",
   "metadata": {},
   "source": [
    "***"
   ]
  },
  {
   "cell_type": "code",
   "execution_count": 101,
   "id": "ec8011af-5eac-4d96-b775-3c2d761fee21",
   "metadata": {},
   "outputs": [],
   "source": [
    "# ReMax componay dataset.\n",
    "rev_remax = dff_labor_force_econ.loc[dff_labor_force_econ['gvkey'] == '018578']"
   ]
  },
  {
   "cell_type": "code",
   "execution_count": 102,
   "id": "53598988-0cd7-4db1-8815-5a7a509d3c3a",
   "metadata": {},
   "outputs": [
    {
     "name": "stdout",
     "output_type": "stream",
     "text": [
      "<class 'pandas.core.frame.DataFrame'>\n",
      "Index: 12 entries, 20 to 226\n",
      "Data columns (total 11 columns):\n",
      " #   Column          Non-Null Count  Dtype         \n",
      "---  ------          --------------  -----         \n",
      " 0   year            12 non-null     int32         \n",
      " 1   effective_rate  12 non-null     float64       \n",
      " 2   cik             12 non-null     object        \n",
      " 3   gvkey           12 non-null     object        \n",
      " 4   datadate        12 non-null     datetime64[ns]\n",
      " 5   conm            12 non-null     object        \n",
      " 6   revt            12 non-null     float64       \n",
      " 7   ni              12 non-null     float64       \n",
      " 8   house income    12 non-null     float64       \n",
      " 9   index           12 non-null     int64         \n",
      " 10  month           12 non-null     int32         \n",
      "dtypes: datetime64[ns](1), float64(4), int32(2), int64(1), object(3)\n",
      "memory usage: 1.0+ KB\n"
     ]
    }
   ],
   "source": [
    "# Verify data for ReMax.\n",
    "rev_remax.info()"
   ]
  },
  {
   "cell_type": "code",
   "execution_count": 103,
   "id": "6619648b-0747-49e6-b341-0187a7568f00",
   "metadata": {},
   "outputs": [
    {
     "data": {
      "text/html": [
       "<div>\n",
       "<style scoped>\n",
       "    .dataframe tbody tr th:only-of-type {\n",
       "        vertical-align: middle;\n",
       "    }\n",
       "\n",
       "    .dataframe tbody tr th {\n",
       "        vertical-align: top;\n",
       "    }\n",
       "\n",
       "    .dataframe thead th {\n",
       "        text-align: right;\n",
       "    }\n",
       "</style>\n",
       "<table border=\"1\" class=\"dataframe\">\n",
       "  <thead>\n",
       "    <tr style=\"text-align: right;\">\n",
       "      <th></th>\n",
       "      <th>year</th>\n",
       "      <th>effective_rate</th>\n",
       "      <th>cik</th>\n",
       "      <th>gvkey</th>\n",
       "      <th>datadate</th>\n",
       "      <th>conm</th>\n",
       "      <th>revt</th>\n",
       "      <th>ni</th>\n",
       "      <th>house income</th>\n",
       "      <th>index</th>\n",
       "      <th>month</th>\n",
       "    </tr>\n",
       "  </thead>\n",
       "  <tbody>\n",
       "    <tr>\n",
       "      <th>20</th>\n",
       "      <td>2011</td>\n",
       "      <td>0.101507</td>\n",
       "      <td>0001581091</td>\n",
       "      <td>018578</td>\n",
       "      <td>2011-12-31</td>\n",
       "      <td>RE/MAX HOLDINGS INC</td>\n",
       "      <td>138.302</td>\n",
       "      <td>24.249</td>\n",
       "      <td>2152.166667</td>\n",
       "      <td>66</td>\n",
       "      <td>12</td>\n",
       "    </tr>\n",
       "    <tr>\n",
       "      <th>36</th>\n",
       "      <td>2012</td>\n",
       "      <td>0.140574</td>\n",
       "      <td>0001581091</td>\n",
       "      <td>018578</td>\n",
       "      <td>2012-12-31</td>\n",
       "      <td>RE/MAX HOLDINGS INC</td>\n",
       "      <td>143.677</td>\n",
       "      <td>33.324</td>\n",
       "      <td>2022.500000</td>\n",
       "      <td>67</td>\n",
       "      <td>12</td>\n",
       "    </tr>\n",
       "    <tr>\n",
       "      <th>57</th>\n",
       "      <td>2013</td>\n",
       "      <td>0.107342</td>\n",
       "      <td>0001581091</td>\n",
       "      <td>018578</td>\n",
       "      <td>2013-12-31</td>\n",
       "      <td>RE/MAX HOLDINGS INC</td>\n",
       "      <td>158.862</td>\n",
       "      <td>1.506</td>\n",
       "      <td>1932.666667</td>\n",
       "      <td>68</td>\n",
       "      <td>12</td>\n",
       "    </tr>\n",
       "    <tr>\n",
       "      <th>74</th>\n",
       "      <td>2014</td>\n",
       "      <td>0.088493</td>\n",
       "      <td>0001581091</td>\n",
       "      <td>018578</td>\n",
       "      <td>2014-12-31</td>\n",
       "      <td>RE/MAX HOLDINGS INC</td>\n",
       "      <td>170.984</td>\n",
       "      <td>13.436</td>\n",
       "      <td>1873.166667</td>\n",
       "      <td>69</td>\n",
       "      <td>12</td>\n",
       "    </tr>\n",
       "    <tr>\n",
       "      <th>87</th>\n",
       "      <td>2015</td>\n",
       "      <td>0.133726</td>\n",
       "      <td>0001581091</td>\n",
       "      <td>018578</td>\n",
       "      <td>2015-12-31</td>\n",
       "      <td>RE/MAX HOLDINGS INC</td>\n",
       "      <td>176.868</td>\n",
       "      <td>16.655</td>\n",
       "      <td>1759.083333</td>\n",
       "      <td>70</td>\n",
       "      <td>12</td>\n",
       "    </tr>\n",
       "    <tr>\n",
       "      <th>104</th>\n",
       "      <td>2016</td>\n",
       "      <td>0.393197</td>\n",
       "      <td>0001581091</td>\n",
       "      <td>018578</td>\n",
       "      <td>2016-12-31</td>\n",
       "      <td>RE/MAX HOLDINGS INC</td>\n",
       "      <td>176.302</td>\n",
       "      <td>22.737</td>\n",
       "      <td>1719.833333</td>\n",
       "      <td>71</td>\n",
       "      <td>12</td>\n",
       "    </tr>\n",
       "    <tr>\n",
       "      <th>121</th>\n",
       "      <td>2017</td>\n",
       "      <td>1.002959</td>\n",
       "      <td>0001581091</td>\n",
       "      <td>018578</td>\n",
       "      <td>2017-12-31</td>\n",
       "      <td>RE/MAX HOLDINGS INC</td>\n",
       "      <td>197.929</td>\n",
       "      <td>12.815</td>\n",
       "      <td>1654.166667</td>\n",
       "      <td>72</td>\n",
       "      <td>12</td>\n",
       "    </tr>\n",
       "    <tr>\n",
       "      <th>137</th>\n",
       "      <td>2018</td>\n",
       "      <td>1.834932</td>\n",
       "      <td>0001581091</td>\n",
       "      <td>018578</td>\n",
       "      <td>2018-12-31</td>\n",
       "      <td>RE/MAX HOLDINGS INC</td>\n",
       "      <td>212.626</td>\n",
       "      <td>27.044</td>\n",
       "      <td>1540.166667</td>\n",
       "      <td>73</td>\n",
       "      <td>12</td>\n",
       "    </tr>\n",
       "    <tr>\n",
       "      <th>154</th>\n",
       "      <td>2019</td>\n",
       "      <td>2.157260</td>\n",
       "      <td>0001581091</td>\n",
       "      <td>018578</td>\n",
       "      <td>2019-12-31</td>\n",
       "      <td>RE/MAX HOLDINGS INC</td>\n",
       "      <td>282.293</td>\n",
       "      <td>25.040</td>\n",
       "      <td>1435.333333</td>\n",
       "      <td>74</td>\n",
       "      <td>12</td>\n",
       "    </tr>\n",
       "    <tr>\n",
       "      <th>173</th>\n",
       "      <td>2020</td>\n",
       "      <td>0.372240</td>\n",
       "      <td>0001581091</td>\n",
       "      <td>018578</td>\n",
       "      <td>2020-12-31</td>\n",
       "      <td>RE/MAX HOLDINGS INC</td>\n",
       "      <td>266.001</td>\n",
       "      <td>11.250</td>\n",
       "      <td>3836.666667</td>\n",
       "      <td>75</td>\n",
       "      <td>12</td>\n",
       "    </tr>\n",
       "    <tr>\n",
       "      <th>198</th>\n",
       "      <td>2021</td>\n",
       "      <td>0.078685</td>\n",
       "      <td>0001581091</td>\n",
       "      <td>018578</td>\n",
       "      <td>2021-12-31</td>\n",
       "      <td>RE/MAX HOLDINGS INC</td>\n",
       "      <td>329.701</td>\n",
       "      <td>-15.616</td>\n",
       "      <td>1702.916667</td>\n",
       "      <td>76</td>\n",
       "      <td>12</td>\n",
       "    </tr>\n",
       "    <tr>\n",
       "      <th>226</th>\n",
       "      <td>2022</td>\n",
       "      <td>1.692192</td>\n",
       "      <td>0001581091</td>\n",
       "      <td>018578</td>\n",
       "      <td>2022-12-31</td>\n",
       "      <td>RE/MAX HOLDINGS INC</td>\n",
       "      <td>353.386</td>\n",
       "      <td>6.110</td>\n",
       "      <td>1571.583333</td>\n",
       "      <td>77</td>\n",
       "      <td>12</td>\n",
       "    </tr>\n",
       "  </tbody>\n",
       "</table>\n",
       "</div>"
      ],
      "text/plain": [
       "     year  effective_rate         cik   gvkey   datadate                 conm  \\\n",
       "20   2011        0.101507  0001581091  018578 2011-12-31  RE/MAX HOLDINGS INC   \n",
       "36   2012        0.140574  0001581091  018578 2012-12-31  RE/MAX HOLDINGS INC   \n",
       "57   2013        0.107342  0001581091  018578 2013-12-31  RE/MAX HOLDINGS INC   \n",
       "74   2014        0.088493  0001581091  018578 2014-12-31  RE/MAX HOLDINGS INC   \n",
       "87   2015        0.133726  0001581091  018578 2015-12-31  RE/MAX HOLDINGS INC   \n",
       "104  2016        0.393197  0001581091  018578 2016-12-31  RE/MAX HOLDINGS INC   \n",
       "121  2017        1.002959  0001581091  018578 2017-12-31  RE/MAX HOLDINGS INC   \n",
       "137  2018        1.834932  0001581091  018578 2018-12-31  RE/MAX HOLDINGS INC   \n",
       "154  2019        2.157260  0001581091  018578 2019-12-31  RE/MAX HOLDINGS INC   \n",
       "173  2020        0.372240  0001581091  018578 2020-12-31  RE/MAX HOLDINGS INC   \n",
       "198  2021        0.078685  0001581091  018578 2021-12-31  RE/MAX HOLDINGS INC   \n",
       "226  2022        1.692192  0001581091  018578 2022-12-31  RE/MAX HOLDINGS INC   \n",
       "\n",
       "        revt      ni  house income  index  month  \n",
       "20   138.302  24.249   2152.166667     66     12  \n",
       "36   143.677  33.324   2022.500000     67     12  \n",
       "57   158.862   1.506   1932.666667     68     12  \n",
       "74   170.984  13.436   1873.166667     69     12  \n",
       "87   176.868  16.655   1759.083333     70     12  \n",
       "104  176.302  22.737   1719.833333     71     12  \n",
       "121  197.929  12.815   1654.166667     72     12  \n",
       "137  212.626  27.044   1540.166667     73     12  \n",
       "154  282.293  25.040   1435.333333     74     12  \n",
       "173  266.001  11.250   3836.666667     75     12  \n",
       "198  329.701 -15.616   1702.916667     76     12  \n",
       "226  353.386   6.110   1571.583333     77     12  "
      ]
     },
     "execution_count": 103,
     "metadata": {},
     "output_type": "execute_result"
    }
   ],
   "source": [
    "# Entire dataset.\n",
    "rev_remax"
   ]
  },
  {
   "cell_type": "code",
   "execution_count": 104,
   "id": "3785f6f0-dc9a-410c-8c54-bcc61a744753",
   "metadata": {},
   "outputs": [
    {
     "name": "stdout",
     "output_type": "stream",
     "text": [
      "                            OLS Regression Results                            \n",
      "==============================================================================\n",
      "Dep. Variable:                   revt   R-squared:                       0.257\n",
      "Model:                            OLS   Adj. R-squared:                  0.182\n",
      "Method:                 Least Squares   F-statistic:                     3.452\n",
      "Date:                Tue, 28 Nov 2023   Prob (F-statistic):             0.0928\n",
      "Time:                        20:43:52   Log-Likelihood:                -66.218\n",
      "No. Observations:                  12   AIC:                             136.4\n",
      "Df Residuals:                      10   BIC:                             137.4\n",
      "Df Model:                           1                                         \n",
      "Covariance Type:            nonrobust                                         \n",
      "==================================================================================\n",
      "                     coef    std err          t      P>|t|      [0.025      0.975]\n",
      "----------------------------------------------------------------------------------\n",
      "Intercept        185.4333     25.626      7.236      0.000     128.334     242.532\n",
      "effective_rate    47.1092     25.356      1.858      0.093      -9.388     103.607\n",
      "==============================================================================\n",
      "Omnibus:                        5.286   Durbin-Watson:                   0.404\n",
      "Prob(Omnibus):                  0.071   Jarque-Bera (JB):                2.873\n",
      "Skew:                           1.197   Prob(JB):                        0.238\n",
      "Kurtosis:                       3.121   Cond. No.                         2.24\n",
      "==============================================================================\n",
      "\n",
      "Notes:\n",
      "[1] Standard Errors assume that the covariance matrix of the errors is correctly specified.\n"
     ]
    },
    {
     "name": "stderr",
     "output_type": "stream",
     "text": [
      "/Library/Frameworks/Python.framework/Versions/3.11/lib/python3.11/site-packages/scipy/stats/_stats_py.py:1806: UserWarning: kurtosistest only valid for n>=20 ... continuing anyway, n=12\n",
      "  warnings.warn(\"kurtosistest only valid for n>=20 ... continuing \"\n"
     ]
    }
   ],
   "source": [
    "# Effect of rate on revt of ReMax.\n",
    "model = smf.ols(formula='revt ~ effective_rate', data=rev_remax)\n",
    "results = model.fit()\n",
    "print(results.summary())"
   ]
  },
  {
   "cell_type": "markdown",
   "id": "8e8fee5f-5afa-4c75-a3be-cd2cdcd52d98",
   "metadata": {},
   "source": [
    "#### <font color=\"green\">Analysis</font>\n",
    "\n",
    "Prob (F-statistic) is less than 0.1, this regression analysis can be considered.\n",
    "\n",
    "R-squared is 25.7% - i.e. 25.7% of revenue is explained by this model.\n",
    "\n",
    "The coefficient on ni is 47.1092, which means the effective rate is positively associated with ReMax's revenues. This coefficient is statistically significant at p<0.1 level."
   ]
  },
  {
   "cell_type": "code",
   "execution_count": null,
   "id": "81fbd919-892d-4302-9314-1883c4f45a6f",
   "metadata": {},
   "outputs": [],
   "source": []
  }
 ],
 "metadata": {
  "kernelspec": {
   "display_name": "Python 3 (ipykernel)",
   "language": "python",
   "name": "python3"
  },
  "language_info": {
   "codemirror_mode": {
    "name": "ipython",
    "version": 3
   },
   "file_extension": ".py",
   "mimetype": "text/x-python",
   "name": "python",
   "nbconvert_exporter": "python",
   "pygments_lexer": "ipython3",
   "version": "3.11.4"
  }
 },
 "nbformat": 4,
 "nbformat_minor": 5
}
